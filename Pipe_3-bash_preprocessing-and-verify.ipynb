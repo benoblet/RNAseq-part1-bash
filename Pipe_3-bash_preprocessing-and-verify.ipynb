{
 "cells": [
  {
   "cell_type": "markdown",
   "metadata": {},
   "source": [
    "# Preprocessing reads: cleaning and checking quality"
   ]
  },
  {
   "cell_type": "markdown",
   "metadata": {},
   "source": [
    "<b>File completed </b> (05/18/2021)  \n",
    "Table of Contents + tool versions on 06/22/2021\n",
    "\n",
    "Bénédicte Noblet\n",
    "\n",
    "- Preparing session for IFB core cluster\n",
    "- Cleaning reads along, with some quality thanks to `fastp`\n",
    "- FMultoQC report summary post prepping\n",
    "- Checking for species contamination (added on 06/23/2021)\n",
    "- MultiQC summary report after `fastq-screen` (run on 06/24/2021)\n",
    "- Current disk usage situation after preprocessing\n"
   ]
  },
  {
   "cell_type": "markdown",
   "metadata": {},
   "source": [
    "---\n",
    "\n",
    "## <b>Preparing session for IFB core cluster</b>\n",
    "\n",
    "<em>loaded JupyterLab</em> : Version 2.2.9"
   ]
  },
  {
   "cell_type": "code",
   "execution_count": 1,
   "metadata": {},
   "outputs": [
    {
     "name": "stdout",
     "output_type": "stream",
     "text": [
      "=== Cell launched on Tue May 18 16:42:21 CEST 2021 ===\n",
      "=== Current IFB session size: Medium (4CPU, 10GB) or Large (10CPU, 50GB) ===\n",
      "       JobID  AllocCPUS        NodeList \n",
      "------------ ---------- --------------- \n",
      "16600945             10      cpu-node-8 \n",
      "16600945.ba+         10      cpu-node-8 \n",
      "16600945.0           10      cpu-node-8 \n",
      "=== Working's root folder is ===\n",
      "/shared/projects/gonseq/Building/\n",
      "\n",
      "=== current folder tree ===\n",
      "/shared/projects/gonseq/Building/\n",
      "├── Data\n",
      "│   ├── fastq\n",
      "│   │   ├── fastp\n",
      "│   │   └── raw\n",
      "│   ├── info\n",
      "│   └── sra\n",
      "│       ├── SRR7430706\n",
      "│       ├── SRR7430707\n",
      "│       ├── SRR7430708\n",
      "│       ├── SRR7430709\n",
      "│       ├── SRR7430710\n",
      "│       ├── SRR7430711\n",
      "│       ├── SRR7430712\n",
      "│       ├── SRR7430713\n",
      "│       ├── SRR7430738\n",
      "│       ├── SRR7430739\n",
      "│       ├── SRR7430740\n",
      "│       ├── SRR7430741\n",
      "│       ├── SRR7430742\n",
      "│       ├── SRR7430743\n",
      "│       ├── SRR7430744\n",
      "│       └── SRR7430745\n",
      "├── Pipeline\n",
      "└── Results\n",
      "    ├── fastp\n",
      "    ├── fastqc\n",
      "    ├── logfiles\n",
      "    └── multiqc\n",
      "        ├── 1_raw-fastq-files_data\n",
      "        └── 1_raw-fastq-files_plots\n",
      "            ├── pdf\n",
      "            ├── png\n",
      "            └── svg\n",
      "\n",
      "33 directories\n",
      "=== current working directory ===\n",
      "/shared/ifbstor1/projects/gonseq/Building/Pipeline\n"
     ]
    }
   ],
   "source": [
    "echo \"=== Cell launched on $(date) ===\"\n",
    "\n",
    "echo \"=== Current IFB session size: Medium (4CPU, 10GB) or Large (10CPU, 50GB) ===\"\n",
    "jobid=$(squeue -hu $USER | awk '/jupyter/ {print $1}')\n",
    "sacct --format=JobID,AllocCPUS,NODELIST -j ${jobid}\n",
    "\n",
    "echo \"=== Working's root folder is ===\"\n",
    "gohome=\"/shared/projects/gonseq/Building/\" # to adjust with your project's folder\n",
    "echo \"${gohome}\"\n",
    "echo \"\"\n",
    "\n",
    "echo \"=== current folder tree ===\"\n",
    "tree -d \"${gohome}\"\n",
    "echo \"=== current working directory ===\"\n",
    "echo \"${PWD}\""
   ]
  },
  {
   "cell_type": "code",
   "execution_count": 2,
   "metadata": {},
   "outputs": [
    {
     "name": "stdout",
     "output_type": "stream",
     "text": [
      "===== cleanning, pre and post-quilities =====\n",
      "fastp 0.20.0\n",
      "===== compiled report =====\n",
      "multiqc, version 1.9\n",
      "===== checking species contamination =====\n",
      "FastQ Screen v0.13.0\n"
     ]
    }
   ],
   "source": [
    "module load fastp/0.20.0 multiqc/1.9 fastq-screen/0.13.0\n",
    "\n",
    "echo \"===== cleanning, pre and post-quilities =====\"\n",
    "fastp --version\n",
    "echo \"===== compiled report =====\"\n",
    "multiqc --version\n",
    "echo \"===== checking species contamination =====\"  # not used, see below\n",
    "fastq_screen --version "
   ]
  },
  {
   "cell_type": "markdown",
   "metadata": {},
   "source": [
    "---\n",
    "## <b>I- Cleaning reads along, with some quality thanks to <code>fastp</code></b>"
   ]
  },
  {
   "cell_type": "markdown",
   "metadata": {},
   "source": [
    "A widely used software is <a href=\"http://www.usadellab.org/cms/?page=trimmomatic\">Trimmomatic</a>. <br>\n",
    "Unfornately, this tool is only performing trimming step (low quality bases removal) an do not include quality control afterwards. Thus, files need to be open at least 3 times, and for big files that takes quite some time as you discovered with FastQC. <br>\n",
    "\n",
    "Researchers from China developped a complete preprocessor tool, called <b>Fastp</b>, and published it in <a href=\"https://academic.oup.com/bioinformatics/article/34/17/i884/5093234\"><em>Bioinformatics Journal</em> in 2018</a>. Currently, code and guides are available on their <a href=\"https://github.com/OpenGene/fastp\">GitHub repository</a>."
   ]
  },
  {
   "cell_type": "markdown",
   "metadata": {},
   "source": [
    "### **1- Tool version and default options overview**\n",
    "This notebook was developped with ``fastp 0.20.0``."
   ]
  },
  {
   "cell_type": "code",
   "execution_count": 3,
   "metadata": {},
   "outputs": [
    {
     "name": "stdout",
     "output_type": "stream",
     "text": [
      "fastp 0.20.0\n"
     ]
    }
   ],
   "source": [
    "fastp --version"
   ]
  },
  {
   "cell_type": "markdown",
   "metadata": {},
   "source": [
    "Simpliest usage for paired end (PE) sequencing data is:\n",
    "\n",
    "<code>fastp -i R1.fastqsanger.gz -I R2.fastqsanger.gz \\\n",
    "       -o R1.fastp.fastqsanger.gz -O R2.fastp.fastqsanger.gz <br></code>\n",
    "       \n",
    "If output options (`-o` and `-O` for paired end data) are omitted, `fastp` will operate the same and generate a report but won't write clean `.fastq.gz` files!"
   ]
  },
  {
   "cell_type": "markdown",
   "metadata": {},
   "source": [
    "<div class=\"alert alert-block alert-info\">\n",
    "    As its manual page, either on <a href=\"https://github.com/OpenGene/fastp/blob/master/README.md\">Github repository</a> or with <code>fastp --help</code> (also displayed on Github page), is quite long, we will summarize here some features.\n",
    "</div>\n",
    "\n",
    "In its default options, *Fastp* proceeds to:\n",
    "- adaptater removal, also named trimming (automatic identification for commercial sets, ``-A`` to disable it)\n",
    "- base removal when phred quality drops below 15 (``-q 15``, change value if wanted)\n",
    "- read removal when there are more than 40% of unqualified bases (``-u 40``) <br>\n",
    "- read removal when length drops below 15 bases (``-l 15``, ``-L`` can be used to inactivate this option)\n",
    "- read removal when there are more than 5 N (undetermined) bases (``-n 5`` or ``--n_base_limit 5`` to adjust) <br>\n",
    "- record of mated reads in separated files (specified with ``-o`` and ``-O``)\n",
    "- usage of 2 threads (<a href=\"https://github.com/OpenGene/fastp/issues/13\">IN FACT CORES</a>!), standing for 4 computer threads (``-w 2`` or ``--thread 2``)\n",
    "- a compression of created ``.fastq`` files (``-z 4`` compression level gzip, ranging from 1-faster to 9-smaller)\n",
    "- files overwriting if names already used (to change it, ``--dont_overwrite``) \n",
    "- naming report as \"fastp report\" (title inside file)\n",
    "- report files writing IN CURRENT WORKING DIRECTORY\n",
    "\n",
    "Thus, afterwards, you don't have the removed reads anymore, no matter what is the reason (good quality but alone or bad quality per itself)... and each report erases the previous one!  \n",
    "We will adjust this later!"
   ]
  },
  {
   "cell_type": "markdown",
   "metadata": {},
   "source": [
    "### **2- Further options for ``fastp``**"
   ]
  },
  {
   "cell_type": "markdown",
   "metadata": {},
   "source": [
    "Others avalaible options are:\n",
    "<blockquote>\n",
    "    <code>-e score</code> or <code>--average_qual score</code> to filter reads by their mean quality (default 0, no requirement) <br>\n",
    "    <code>-V</code> to set it verbose every 1M reads are processed <br>\n",
    "    <code>-a</code> or <code>--adapter_sequence</code> to specify adapter sequence, else autodetected <br>\n",
    "    <code>--adapter_sequence_r2</code> for read2 adapter sequence <br>\n",
    "    <code>--adapter_fasta</code> to add a <code>.fasta</code> file with adaptors sequences to apply all sequences on both read1 and read2 <br>\n",
    "    <code>--filter_by_index1</code> (same for 2), to specify file containing barcodes list and <code>--filter_by_index_treshold</code> to allow for mismatches (default is set to 0) <br>\n",
    "    <code>-c</code> or <code>--correction</code>, enable base correction for overlapping regions in PE: if one base is unqualified use corresponding base in mate pair if of good quality. <i>Caution: There are other options to add with this one.</i> <br>\n",
    "    <code>-p</code> or <code>--overrepresentation_analysis</code>, to have overrepresented sequences per sample (<i>careful, big hmtl report!</i>) and     <code>-P number</code> or <code>--overrepresentation_samples number</code>, to have 1 in <i>number</i> reads used to identify those overrepresentated sequences (default, <code>-P 20</code>)\n",
    "</blockquote>\n",
    "\n",
    "PolyG tail trimming is required for sequencing data from Illumina NextSeq and NovaSeqand platforms (2-colors technology). It is activated by default for such datasets (<code>-g</code> or <code>--trim_poly_g</code>). See <a href=\"https://github.com/OpenGene/fastp#polyg-tail-trimming\">corresponding section</a> for more details and <a href=\"https://github.com/OpenGene/fastp#polyx-tail-trimming\">polyX tail trimming</a> counterpart."
   ]
  },
  {
   "cell_type": "markdown",
   "metadata": {},
   "source": [
    "In addition to default bad quality removal, you can add more stringent filters if needed:\n",
    "<blockquote>\n",
    "    <code>-f x</code> or <code>--trim_front1 x</code> to trim x bases from 5' reads extremity of read 1 (<code>-F x</code> or <code>--trim_front2 x</code> for read 2) <br>\n",
    "    <code>-t x</code> or <code>--trim_tail1 x</code> to trim x bases from the 3' tail of the reads in read1 file (<code>-T x</code> or <code>--trim_tail2 x</code> for read 2) <br>\n",
    "    <code>-y</code> or <code>--low_complexity_filter</code> to enable removal of reads containing few base changes (with <code>-Y 30</code> percent by default) <br>\n",
    "</blockquote>\n",
    "\n",
    "For next 3 options, you need to specify a window size (default <code>-W 4</code> or <code>--cut_window_size 4</code>, number ranging from 1 to 1000) to work with.\n",
    "<blockquote>\n",
    "    <code>-5</code> or <code>--cut_front</code>: from start, sliding window, drops just hit windows <br>\n",
    "    <code>-3</code> or <code>--cut_tail</code>: from tail, same <br>\n",
    "    <code>-r</code> or <code>--cut_right</code>: drop window and dowstream bases\n",
    "</blockquote>\n",
    "\n",
    "With a window size of 1 (``-W 1``), they are equivalent to, respectively, run ``LEADING``, ``TRAILING`` and ``SLIDINGWINDOW`` with *Trimmomatic*. Please, be aware that **these tools interfere with downstream deduplicated algorithms** (see <a href=\"https://github.com/OpenGene/fastp#per-read-cutting-by-quality-score\">corresponding section</a> in manual)."
   ]
  },
  {
   "cell_type": "markdown",
   "metadata": {},
   "source": [
    "### **3- Preparing step**"
   ]
  },
  {
   "cell_type": "markdown",
   "metadata": {},
   "source": [
    "For *Fastp* to treat raw ``.fastq.gz`` files, let's remember where they can be found:"
   ]
  },
  {
   "cell_type": "code",
   "execution_count": 4,
   "metadata": {},
   "outputs": [],
   "source": [
    "rawfolder=\"${gohome}Data/fastq/raw/\""
   ]
  },
  {
   "cell_type": "markdown",
   "metadata": {},
   "source": [
    "We will create 2 folders to store the files ``fastp`` will create:\n",
    "- cleaned ``.fastq.gz`` files"
   ]
  },
  {
   "cell_type": "code",
   "execution_count": 5,
   "metadata": {},
   "outputs": [],
   "source": [
    "cleanedfastqfolder=\"${gohome}Data/fastq/fastp/\"\n",
    "mkdir -p ${cleanedfastqfolder}"
   ]
  },
  {
   "cell_type": "markdown",
   "metadata": {},
   "source": [
    "- quality reports, one per sample (including quality before and after processiong reads)"
   ]
  },
  {
   "cell_type": "code",
   "execution_count": 6,
   "metadata": {},
   "outputs": [],
   "source": [
    "reportfolder=\"${gohome}Results/fastp/\"\n",
    "mkdir -p ${reportfolder}"
   ]
  },
  {
   "cell_type": "markdown",
   "metadata": {},
   "source": [
    "In addition, we remember here destination folder for text file of redirected outputs."
   ]
  },
  {
   "cell_type": "code",
   "execution_count": 7,
   "metadata": {},
   "outputs": [],
   "source": [
    "logfolder=\"${gohome}Results/logfiles/\""
   ]
  },
  {
   "cell_type": "markdown",
   "metadata": {},
   "source": [
    "### **4- Looping for bad quality removal**"
   ]
  },
  {
   "cell_type": "markdown",
   "metadata": {},
   "source": [
    "And, now the big loop! :-D"
   ]
  },
  {
   "cell_type": "code",
   "execution_count": 8,
   "metadata": {},
   "outputs": [
    {
     "name": "stdout",
     "output_type": "stream",
     "text": [
      "Screen output is redirected to /shared/projects/gonseq/Building/Results/logfiles/fastp_prequality-filtering-postquality.log\n",
      "====== Processing sampleID: SRR7430706...\n",
      "...done\n",
      "====== Processing sampleID: SRR7430707...\n",
      "...done\n",
      "====== Processing sampleID: SRR7430708...\n",
      "...done\n",
      "====== Processing sampleID: SRR7430709...\n",
      "...done\n",
      "====== Processing sampleID: SRR7430710...\n",
      "...done\n",
      "====== Processing sampleID: SRR7430711...\n",
      "...done\n",
      "====== Processing sampleID: SRR7430712...\n",
      "...done\n",
      "====== Processing sampleID: SRR7430713...\n",
      "...done\n",
      "====== Processing sampleID: SRR7430738...\n",
      "...done\n",
      "====== Processing sampleID: SRR7430739...\n",
      "...done\n",
      "====== Processing sampleID: SRR7430740...\n",
      "...done\n",
      "====== Processing sampleID: SRR7430741...\n",
      "...done\n",
      "====== Processing sampleID: SRR7430742...\n",
      "...done\n",
      "====== Processing sampleID: SRR7430743...\n",
      "...done\n",
      "====== Processing sampleID: SRR7430744...\n",
      "...done\n",
      "====== Processing sampleID: SRR7430745...\n",
      "...done\n",
      "\n",
      "real\t82m57.082s\n",
      "user\t329m13.003s\n",
      "sys\t15m34.068s\n",
      "fastq folder contains 49 fastq.gz files.\n",
      "quality folder contains 16 html reports.\n"
     ]
    }
   ],
   "source": [
    "logfile=\"${logfolder}fastp_prequality-filtering-postquality.log\"\n",
    "echo \"Screen output is redirected to ${logfile}\"\n",
    "\n",
    "# as time command does not redirect output\n",
    "echo \"operation starting by $(date)\" >> ${logfile}\n",
    "\n",
    "time for read1 in $(ls \"${rawfolder}\"*_1.fastq.gz); do\n",
    "\n",
    "    # starting with the sample name\n",
    "    id=$(basename ${read1} | cut -d\"_\" -f1)\n",
    "    echo \"====== Processing sampleID: ${id}...\" | tee -a ${logfile}\n",
    "        \n",
    "    # fastq files section\n",
    "    read2=$(echo ${read1} | sed 's#_1#_2#')\n",
    "    outread1=\"${cleanedfastqfolder}${id}_1.fastp.fastq.gz\"\n",
    "    outread2=$(echo ${outread1} | sed \"s#_1#_2#\")\n",
    "    outremoved=\"${cleanedfastqfolder}${id}_removed.fastp.fastq.gz\"\n",
    "    \n",
    "    # report section\n",
    "    hreport=\"${reportfolder}${id}_fastp.html\"  # fastp at the end else multiqc doesn't see it\n",
    "    jreport=$(echo ${hreport} | sed \"s#html#json#\")\n",
    "    myheader=$(echo \"Sample ${id} fastp report\") # append sample reference to default title\n",
    "\n",
    "    echo \"fastp starts by $(date)\" >> ${logfile}\n",
    "    # fastp working\n",
    "    fastp --in1 ${read1} --in2 ${read2} \\\n",
    "          --out1 ${outread1} --out2 ${outread2} \\\n",
    "          --failed_out ${outremoved} \\\n",
    "          --qualified_quality_phred 15 \\\n",
    "          --length_required 30 \\\n",
    "          --thread 8 \\\n",
    "          --html ${hreport} --json ${jreport} \\\n",
    "          --report_title \"$(echo ${myheader})\" \\\n",
    "          &>> $logfile\n",
    "    echo \"fastp ends by $(date)\" >> ${logfile}\n",
    "    \n",
    "    echo \"...done\" | tee -a ${logfile} \n",
    "    \n",
    "done\n",
    "\n",
    "# size of files\n",
    "ls -lh \"${cleanedfastqfolder}\" >> ${logfile}\n",
    "\n",
    "echo \"fastq folder contains $(ls -l \"${cleanedfastqfolder}\" | wc -l) fastq.gz files.\" \\\n",
    "     | tee -a ${logfile}\n",
    "echo \"quality folder contains $(ls -l \"${reportfolder}\"*.html | wc -l) html reports.\" \\\n",
    "     | tee -a ${logfile} "
   ]
  },
  {
   "cell_type": "markdown",
   "metadata": {},
   "source": [
    "<blockquote>\n",
    "    <code>--failed_out</code> to have an outpt for failed reads with specified failure reason. For paired-end (PE) data with no filename for unpaired reads, the qualified discarded read is registered as <code>paired_read_is_failing</code> <br>\n",
    "    <code>-R text</code> or <code>--report_title text</code>, report <b>title</b> (default \"fastp report\") <br>\n",
    "    <code>-j</code> or <code>--json</code> for json <b>filename</b> <br>\n",
    "    <code>-h</code> or <code>--html</code> for html <b>filename</b>\n",
    "</blockquote>"
   ]
  },
  {
   "cell_type": "markdown",
   "metadata": {},
   "source": [
    "Before modifying filenames, plesae note:\n",
    "<ul class=\"alert alert-block alert-info\">\n",
    "    <li>\n",
    "        MultiQC detects reports only based <a href=\"https://multiqc.info/docs/#fastp\">on the end of the filenames</a>: it looks for <code>fastp.json</code> and <code>_fastqc.zip</code>.\n",
    "    </li>\n",
    "</ul>"
   ]
  },
  {
   "cell_type": "markdown",
   "metadata": {},
   "source": [
    "---\n",
    "## <b>II- MultiQC report summary post prepping</b>"
   ]
  },
  {
   "cell_type": "markdown",
   "metadata": {},
   "source": [
    "Now let's have a look at our cleaned (we expect) dataset before mapping reads to the reference genome. <br>"
   ]
  },
  {
   "cell_type": "code",
   "execution_count": 9,
   "metadata": {},
   "outputs": [
    {
     "name": "stdout",
     "output_type": "stream",
     "text": [
      "multiqc, version 1.9\n"
     ]
    }
   ],
   "source": [
    "multiqc --version"
   ]
  },
  {
   "cell_type": "markdown",
   "metadata": {},
   "source": [
    "For more details about MultiQC, please refer to previous notebook."
   ]
  },
  {
   "cell_type": "markdown",
   "metadata": {},
   "source": [
    "### **1- Folder, filename, title and comment**\n",
    "\n",
    "Let's remember wher report files are to be placed:"
   ]
  },
  {
   "cell_type": "code",
   "execution_count": 10,
   "metadata": {},
   "outputs": [],
   "source": [
    "qcsummaries=\"${gohome}Results/multiqc/\""
   ]
  },
  {
   "cell_type": "markdown",
   "metadata": {},
   "source": [
    "We specify then names for files and title to display on html report page."
   ]
  },
  {
   "cell_type": "code",
   "execution_count": 11,
   "metadata": {},
   "outputs": [],
   "source": [
    "inamemyfile=\"2_fastp-fastq-files\"\n",
    "mytitle=\"Fastq files qualities by Fastp: before and after filtering\""
   ]
  },
  {
   "cell_type": "markdown",
   "metadata": {},
   "source": [
    "To keep record of what have been done with these files, I add an additionnal comment to remember for later use (along with to inform others readers):"
   ]
  },
  {
   "cell_type": "code",
   "execution_count": 12,
   "metadata": {},
   "outputs": [],
   "source": [
    "mycomment=$(echo \"Fastq files processed by Fastp with following options. \" \\\n",
    "\"qualified quality: 15, minimum length: 30, removed reads kept in same file.\")"
   ]
  },
  {
   "cell_type": "markdown",
   "metadata": {},
   "source": [
    "### **2- Generate summary report**"
   ]
  },
  {
   "cell_type": "code",
   "execution_count": 13,
   "metadata": {},
   "outputs": [
    {
     "name": "stdout",
     "output_type": "stream",
     "text": [
      "Screen output is also saved in /shared/projects/gonseq/Building/Results/logfiles/multiqc-processing_fastp-quality.log\n",
      "[WARNING]         multiqc : MultiQC Version v1.10.1 now available!\n",
      "[INFO   ]         multiqc : This is MultiQC v1.9\n",
      "[INFO   ]         multiqc : Template    : default\n",
      "[INFO   ]         multiqc : Report title: Fastq files qualities by Fastp: before and after filtering\n",
      "[INFO   ]         multiqc : Searching   : /shared/projects/gonseq/Building/Results/fastp\n",
      "[INFO   ]         multiqc : Only using modules fastp\n",
      "[INFO   ]           fastp : Found 16 reports\n",
      "/shared/ifbstor1/software/miniconda/envs/multiqc-1.9/lib/python3.6/site-packages/multiqc/plots/bargraph.py:451: UserWarning: FixedFormatter should only be used together with FixedLocator\n",
      "  axes.set_xticklabels(['{:.0f}%'.format(x) for x in vals])\n",
      "[INFO   ]         multiqc : Compressing plot data\n",
      "[INFO   ]         multiqc : Report      : ../../../../../projects/gonseq/Building/Results/multiqc/2_fastp-fastq-files.html\n",
      "[INFO   ]         multiqc : Data        : ../../../../../projects/gonseq/Building/Results/multiqc/2_fastp-fastq-files_data\n",
      "[INFO   ]         multiqc : Plots       : ../../../../../projects/gonseq/Building/Results/multiqc/2_fastp-fastq-files_plots\n",
      "[INFO   ]         multiqc : MultiQC complete\n"
     ]
    }
   ],
   "source": [
    "logfile=\"${logfolder}multiqc-processing_fastp-quality.log\"\n",
    "echo \"Screen output is also saved in ${logfile}\"\n",
    "\n",
    "echo \"operation starting by $(date)\" >> ${logfile}\n",
    "multiqc --interactive --export \\\n",
    "        --module fastp \\\n",
    "        --outdir \"${qcsummaries}\" \\\n",
    "        --filename \"${inamemyfile}\" \\\n",
    "        --title \"${mytitle}\"  \\\n",
    "        --comment \"${mycomment}\" \\\n",
    "        \"${reportfolder}\" \\\n",
    "        |& tee -a ${logfile}\n",
    "echo \"operation finished by $(date)\" >> ${logfile}\n",
    "\n",
    "# to see which files we have afterward and follow folder sizes\n",
    "ls -lh \"${gohome}Results/multiqc/\" >> ${logfile}\n",
    "ls -lh \"${gohome}Results/\" >> ${logfile}"
   ]
  },
  {
   "cell_type": "markdown",
   "metadata": {},
   "source": [
    "---\n",
    "## <b>III- Checking for species contamination</b>"
   ]
  },
  {
   "cell_type": "markdown",
   "metadata": {},
   "source": [
    "<ul class=\"alert alert-block alert-info\">\n",
    "    <li>\n",
    "        Reading <b>FastQ-screen</b> documentation's introduction to see how can I retrieve application's version, I found that <b>FastQ Screen</b> <a href=\"https://www.bioinformatics.babraham.ac.uk/projects/fastq_screen/_build/html/index.html?highlight=version#installation\">is compatible with Bowtie, Bowtie2 or BWA</a> aligners... and <a href=\"https://www.bioinformatics.babraham.ac.uk/projects/fastq_screen/_build/html/index.html?highlight=version#configuration\">the aligner used to build the index files must be used to map RNA reads</a>\n",
    "    </li>\n",
    "    <li>\n",
    "       After discussion with Claire Vandiedonck, we will use Fastq-Screen aligner (I will use the default one, that is Bowtie2) only to identify contaminations regardless of nucleic acid type and align RNA reads propperly later with a splice-aware aligner.\n",
    "    </li>\n",
    "</ul>"
   ]
  },
  {
   "cell_type": "markdown",
   "metadata": {},
   "source": [
    "The session I used for ``fastq_screen`` addition:"
   ]
  },
  {
   "cell_type": "code",
   "execution_count": 1,
   "metadata": {},
   "outputs": [
    {
     "name": "stdout",
     "output_type": "stream",
     "text": [
      "=== Cell launched on Wed Jun 23 18:20:23 CEST 2021 ===\n",
      "          17246424      fast  jupyter  bnoblet  R    8:19:49      1 cpu-node-47\n",
      "=== Current IFB session size: Medium (4CPU, 10GB) or Large (10CPU, 50GB) ===\n",
      "       JobID  AllocCPUS        NodeList \n",
      "------------ ---------- --------------- \n",
      "17246424             10     cpu-node-47 \n",
      "=== Working's root folder is ===\n",
      "/shared/projects/gonseq/Building/\n"
     ]
    }
   ],
   "source": [
    "echo \"=== Cell launched on $(date) ===\"\n",
    "squeue -hu $USER\n",
    "\n",
    "echo \"=== Current IFB session size: Medium (4CPU, 10GB) or Large (10CPU, 50GB) ===\"\n",
    "jobid=$(squeue -hu $USER | awk '/jupyter/ {print $1}')\n",
    "sacct --format=JobID,AllocCPUS,NODELIST -j ${jobid} | head -n 3\n",
    "\n",
    "echo \"=== Working's root folder is ===\"\n",
    "gohome=\"/shared/projects/gonseq/Building/\" # to adjust with your project's folder\n",
    "echo \"${gohome}\""
   ]
  },
  {
   "cell_type": "code",
   "execution_count": 2,
   "metadata": {},
   "outputs": [],
   "source": [
    "module load fastq-screen/0.13.0 multiqc/1.9"
   ]
  },
  {
   "cell_type": "markdown",
   "metadata": {},
   "source": [
    "### **1- Tool version and default options overview**\n",
    "This notebook was developped with ``fastq-screen 0.13.0``."
   ]
  },
  {
   "cell_type": "code",
   "execution_count": 3,
   "metadata": {},
   "outputs": [
    {
     "name": "stdout",
     "output_type": "stream",
     "text": [
      "FastQ Screen v0.13.0\n"
     ]
    }
   ],
   "source": [
    "fastq_screen --version"
   ]
  },
  {
   "cell_type": "markdown",
   "metadata": {},
   "source": [
    "FastQ Screen allows to detect species contamination by aligning a sample set of reads from a ``.fastq`` on chosen reference genomes.  \n",
    "To date, only 3 aligners can be used to do so: ``bowtie``, ``bowtie2``and ``bwa``."
   ]
  },
  {
   "cell_type": "markdown",
   "metadata": {},
   "source": [
    "To use this tool, we need indexes files for other species. We can:  \n",
    "- download genomes sequence files and create indexes using the chosen aligner\n",
    "- retrieve <a href=\"https://www.bioinformatics.babraham.ac.uk/projects/fastq_screen/_build/html/index.html#obtaining-reference-genomes\">pre-indexed <code>bowtie2</code> genomes for a range of commonly studied species and sequences</a> using ``--get_genomes``"
   ]
  },
  {
   "cell_type": "markdown",
   "metadata": {},
   "source": [
    "During this first step, we can specify destination folder for retrieved and generated files with <code>--outdir TEXT</code> option. If not specified then output files are saved in our current working directory.  \n",
    "A folder called ``FastQ_Screen_Genomes/`` is created and contains a text configuration file along with reference genomes indexes. The configuration gives ``fastq_screen`` tool's script the paths to reference genomes (same folder when using ``--get_genomes``). It is meant to be modified to specify path to the aligner but we can also directly use ``--aligner`` option in command line.  \n",
    "  \n",
    "In the second step, the analysis itself, the default command line is ``fastq_screen path/to/file.fastq``.  \n",
    "  \n",
    "Along with path to ``.fastq.gz files``, we will use below options: \n",
    "<blockquote>\n",
    "    <code>--aligner OPTION</code>, to specify the aligner to use for the mapping. Valid arguments are 'bowtie', bowtie2' (default) or 'bwa'. If not specified, it will search for <code>bowtie2</code> location in config file <br>\n",
    "    <code>--threads INTEGER</code>, to specify how many threads the aligner will be allowed to run. This options overrides the default value set in the configuration file <br>\n",
    "    <code>--conf TEXT</code> to manually specify a location for the configuration. Alternatively, the configuration file should be within the program's folder <br>\n",
    "</blockquote>"
   ]
  },
  {
   "cell_type": "markdown",
   "metadata": {},
   "source": [
    "### **2- Preparation steps**"
   ]
  },
  {
   "cell_type": "markdown",
   "metadata": {},
   "source": [
    "First, we will create a destination folder for all ``fastq_screen`` linked files"
   ]
  },
  {
   "cell_type": "code",
   "execution_count": 4,
   "metadata": {},
   "outputs": [],
   "source": [
    "contascreenfolder=\"${gohome}Results/fastq_screen/\"\n",
    "mkdir -p ${contascreenfolder}"
   ]
  },
  {
   "cell_type": "markdown",
   "metadata": {},
   "source": [
    "Then, we will download genome references thanks to ``--get_genomes`` option.\n",
    "\n",
    "<div class=\"alert alert-block alert-warning\">\n",
    "    It took about half an hour (30 minutes) to download all reference files\n",
    "</div>"
   ]
  },
  {
   "cell_type": "code",
   "execution_count": 6,
   "metadata": {},
   "outputs": [
    {
     "name": "stdout",
     "output_type": "stream",
     "text": [
      "Screen output is redirected to /shared/projects/gonseq/Building/Results/logfiles/fastq_screen_get_genomes.log\n",
      "\n",
      "real\t58m7.440s\n",
      "user\t0m11.905s\n",
      "sys\t3m55.364s\n",
      "Downloaded genomes are: Adapters\n",
      "Arabidopsis\n",
      "Drosophila\n",
      "E_coli\n",
      "fastq_screen.conf\n",
      "Human\n",
      "Lambda\n",
      "Mitochondria\n",
      "Mouse\n",
      "PhiX\n",
      "Rat\n",
      "rRNA\n",
      "Vectors\n",
      "Worm\n",
      "Yeast\n"
     ]
    }
   ],
   "source": [
    "logfile=${gohome}Results/logfiles/fastq_screen_get_genomes.log\n",
    "echo \"Screen output is redirected to ${logfile}\"\n",
    "\n",
    "echo \"fastq_screen get_genomes starts at $(date)\" >> ${logfile}\n",
    "time fastq_screen --get_genomes \\\n",
    "                  --outdir ${contascreenfolder} \\\n",
    "                  &>> ${logfile}\n",
    "echo \"fastq_screen get_genomes ends at $(date)\" >> ${logfile}\n",
    "\n",
    "echo \"Folder's composition:\" >> ${logfile}\n",
    "tree ${contascreenfolder} >> ${logfile}\n",
    "du -h \"${contascreenfolder}FastQ_Screen_Genomes/\" >> ${logfile}\n",
    "\n",
    "echo \"Downloaded genomes are: $(ls \"${contascreenfolder}FastQ_Screen_Genomes/\")\" | tee -a ${logfile}"
   ]
  },
  {
   "cell_type": "markdown",
   "metadata": {},
   "source": [
    "We can see genomes versions inside logfile searching for network links (``http://``), then filtering for particular species."
   ]
  },
  {
   "cell_type": "code",
   "execution_count": 8,
   "metadata": {},
   "outputs": [
    {
     "name": "stdout",
     "output_type": "stream",
     "text": [
      "--2021-06-23 19:13:04--  http://ftp1.babraham.ac.uk/ftpusr46/FastQ_Screen_Genomes/Human/Homo_sapiens.GRCh38.1.bt2\n",
      "--2021-06-23 19:17:22--  http://ftp1.babraham.ac.uk/ftpusr46/FastQ_Screen_Genomes/Human/Homo_sapiens.GRCh38.2.bt2\n",
      "--2021-06-23 19:20:42--  http://ftp1.babraham.ac.uk/ftpusr46/FastQ_Screen_Genomes/Human/Homo_sapiens.GRCh38.3.bt2\n",
      "--2021-06-23 19:20:42--  http://ftp1.babraham.ac.uk/ftpusr46/FastQ_Screen_Genomes/Human/Homo_sapiens.GRCh38.4.bt2\n",
      "--2021-06-23 19:24:02--  http://ftp1.babraham.ac.uk/ftpusr46/FastQ_Screen_Genomes/Human/Homo_sapiens.GRCh38.rev.1.bt2\n",
      "--2021-06-23 19:28:21--  http://ftp1.babraham.ac.uk/ftpusr46/FastQ_Screen_Genomes/Human/Homo_sapiens.GRCh38.rev.2.bt2\n",
      "--2021-06-23 19:31:47--  http://ftp1.babraham.ac.uk/ftpusr46/FastQ_Screen_Genomes/Mouse/Mus_musculus.GRCm38.1.bt2\n",
      "--2021-06-23 19:35:51--  http://ftp1.babraham.ac.uk/ftpusr46/FastQ_Screen_Genomes/Mouse/Mus_musculus.GRCm38.2.bt2\n",
      "--2021-06-23 19:39:05--  http://ftp1.babraham.ac.uk/ftpusr46/FastQ_Screen_Genomes/Mouse/Mus_musculus.GRCm38.3.bt2\n",
      "--2021-06-23 19:39:05--  http://ftp1.babraham.ac.uk/ftpusr46/FastQ_Screen_Genomes/Mouse/Mus_musculus.GRCm38.4.bt2\n",
      "--2021-06-23 19:42:27--  http://ftp1.babraham.ac.uk/ftpusr46/FastQ_Screen_Genomes/Mouse/Mus_musculus.GRCm38.rev.1.bt2\n",
      "--2021-06-23 19:47:05--  http://ftp1.babraham.ac.uk/ftpusr46/FastQ_Screen_Genomes/Mouse/Mus_musculus.GRCm38.rev.2.bt2\n"
     ]
    }
   ],
   "source": [
    "cat \"${logfile}\" | grep \"http://\" | grep -e \"Human/Homo_sapiens\" -e \"Mouse/Mus_musculus\""
   ]
  },
  {
   "cell_type": "markdown",
   "metadata": {},
   "source": [
    "### **3- All samples analysis**"
   ]
  },
  {
   "cell_type": "markdown",
   "metadata": {},
   "source": [
    "We will need to use predefined config file to tell ``fastq_screen`` where to find genome files. Let's create a variable to handle it easier."
   ]
  },
  {
   "cell_type": "code",
   "execution_count": 10,
   "metadata": {},
   "outputs": [],
   "source": [
    "fscreenconffile=\"${contascreenfolder}FastQ_Screen_Genomes/fastq_screen.conf\""
   ]
  },
  {
   "cell_type": "markdown",
   "metadata": {},
   "source": [
    "We can now launch on all cleaned ``.fastq`` files produced earlier by ``fastp``."
   ]
  },
  {
   "cell_type": "markdown",
   "metadata": {},
   "source": [
    "<div class=\"alert alert-block alert-danger\">\n",
    "    Following section's cells were not run inside this notebook but were run in the same IFB session and same destination folder. <br>\n",
    "    <b>This cell uses 8 CPUs, please change <code>--threads</code> value if you have less than 10 CPUs</b>.\n",
    "</div>"
   ]
  },
  {
   "cell_type": "code",
   "execution_count": null,
   "metadata": {},
   "outputs": [
    {
     "name": "stdout",
     "output_type": "stream",
     "text": [
      "Screen output is redirected to /shared/projects/gonseq/Building/Results/logfiles/fastq_screen_all_v2.log\n",
      "=== starting for SRR7430706_1.fastp.fastq.gz...\n",
      "... done ===\n",
      "=== starting for SRR7430706_2.fastp.fastq.gz...\n",
      "... done ===\n",
      "=== starting for SRR7430707_1.fastp.fastq.gz...\n",
      "... done ===\n",
      "=== starting for SRR7430707_2.fastp.fastq.gz...\n",
      "... done ===\n",
      "=== starting for SRR7430708_1.fastp.fastq.gz...\n",
      "... done ===\n",
      "=== starting for SRR7430708_2.fastp.fastq.gz...\n",
      "... done ===\n",
      "=== starting for SRR7430709_1.fastp.fastq.gz...\n",
      "... done ===\n",
      "=== starting for SRR7430709_2.fastp.fastq.gz...\n",
      "... done ===\n",
      "=== starting for SRR7430710_1.fastp.fastq.gz...\n",
      "... done ===\n",
      "=== starting for SRR7430710_2.fastp.fastq.gz...\n",
      "... done ===\n",
      "=== starting for SRR7430711_1.fastp.fastq.gz...\n",
      "... done ===\n",
      "=== starting for SRR7430711_2.fastp.fastq.gz...\n",
      "... done ===\n",
      "=== starting for SRR7430712_1.fastp.fastq.gz...\n",
      "... done ===\n",
      "=== starting for SRR7430712_2.fastp.fastq.gz...\n",
      "... done ===\n",
      "=== starting for SRR7430713_1.fastp.fastq.gz...\n",
      "... done ===\n",
      "=== starting for SRR7430713_2.fastp.fastq.gz...\n",
      "... done ===\n",
      "=== starting for SRR7430738_1.fastp.fastq.gz...\n",
      "... done ===\n",
      "=== starting for SRR7430738_2.fastp.fastq.gz...\n",
      "... done ===\n",
      "=== starting for SRR7430739_1.fastp.fastq.gz...\n",
      "... done ===\n",
      "=== starting for SRR7430739_2.fastp.fastq.gz...\n",
      "... done ===\n",
      "=== starting for SRR7430740_1.fastp.fastq.gz...\n",
      "... done ===\n",
      "=== starting for SRR7430740_2.fastp.fastq.gz...\n",
      "... done ===\n",
      "=== starting for SRR7430741_1.fastp.fastq.gz...\n",
      "... done ===\n",
      "=== starting for SRR7430741_2.fastp.fastq.gz...\n",
      "... done ===\n",
      "=== starting for SRR7430742_1.fastp.fastq.gz...\n",
      "... done ===\n",
      "=== starting for SRR7430742_2.fastp.fastq.gz...\n",
      "... done ===\n",
      "=== starting for SRR7430743_1.fastp.fastq.gz...\n",
      "... done ===\n",
      "=== starting for SRR7430743_2.fastp.fastq.gz...\n",
      "... done ===\n",
      "=== starting for SRR7430744_1.fastp.fastq.gz...\n",
      "... done ===\n",
      "=== starting for SRR7430744_2.fastp.fastq.gz...\n"
     ]
    }
   ],
   "source": [
    "logfile=\"${gohome}Results/logfiles/fastq_screen_all_v2.log\"\n",
    "echo \"Screen output is redirected to ${logfile}\"\n",
    "\n",
    "echo \"Destination folder already contains:\" >> ${logfile}\n",
    "ls -lh ${contascreenfolder} >> ${logfile}\n",
    "\n",
    "echo \"operations start at $(date)\" >> ${logfile}\n",
    "\n",
    "time for fastqfile in $(ls \"${cleanedfastqfolder}\"* | grep -v \"removed\"); do\n",
    "    \n",
    "    echo \"=== starting for $(basename ${fastqfile})...\" |& tee -a ${logfile}\n",
    "    date >> ${logfile}\n",
    "    \n",
    "    fastq_screen --aligner bowtie2  \\\n",
    "                 --outdir ${contascreenfolder} \\\n",
    "                 --threads 8 \\\n",
    "                 --conf ${fscreenconffile} \\\n",
    "                 ${fastqfile} \\\n",
    "                 &>> ${logfile}\n",
    "                 \n",
    "    echo \"... done ===\" | tee -a ${logfile}\n",
    "    date >> ${logfile}\n",
    "    \n",
    "done\n",
    "\n",
    "echo \"operations end at $(date)\" >> ${logfile}\n",
    "\n",
    "ls -lh ${contascreenfolder} >> ${logfile}\n",
    "echo \"$(ls ${contascreenfolder} | wc -l) files were created.\""
   ]
  },
  {
   "cell_type": "markdown",
   "metadata": {},
   "source": [
    "<div class=\"alert alert-block alert-danger\">\n",
    "    Output screen information stopped. <br>\n",
    "    To handle <b>2 x 16 <code>.fastq.gz</code> files, it took almost 2 hours</b>.\n",
    "</div>"
   ]
  },
  {
   "cell_type": "code",
   "execution_count": 67,
   "metadata": {},
   "outputs": [
    {
     "name": "stdout",
     "output_type": "stream",
     "text": [
      "operations start at Wed Jun 23 14:48:49 CEST 2021\n",
      "operations end at Wed Jun 23 16:43:20 CEST 2021\n"
     ]
    }
   ],
   "source": [
    "cat ${logfile} | grep \"operations\""
   ]
  },
  {
   "cell_type": "code",
   "execution_count": 68,
   "metadata": {},
   "outputs": [
    {
     "name": "stdout",
     "output_type": "stream",
     "text": [
      "32\n"
     ]
    }
   ],
   "source": [
    "ls \"${watchingforcontafolder}\"*.html | wc -l"
   ]
  },
  {
   "cell_type": "markdown",
   "metadata": {},
   "source": [
    "---\n",
    "## <b>IV- MultiQC summary report after <code>fastq_screen</code></b>"
   ]
  },
  {
   "cell_type": "code",
   "execution_count": 1,
   "metadata": {},
   "outputs": [
    {
     "name": "stdout",
     "output_type": "stream",
     "text": [
      "=== Cell launched on Thu Jun 24 10:24:54 CEST 2021 ===\n",
      "          17256102      fast  jupyter  bnoblet  R      13:03      1 cpu-node-12\n",
      "=== Current IFB session size: Medium (4CPU, 10GB) or Large (10CPU, 50GB) ===\n",
      "       JobID  AllocCPUS        NodeList \n",
      "------------ ---------- --------------- \n",
      "17256102             10     cpu-node-12 \n",
      "=== Working's root folder is ===\n",
      "/shared/projects/gonseq/Building/\n",
      "===== compiled report =====\n",
      "multiqc, version 1.9\n"
     ]
    }
   ],
   "source": [
    "echo \"=== Cell launched on $(date) ===\"\n",
    "squeue -hu $USER\n",
    "\n",
    "echo \"=== Current IFB session size: Medium (4CPU, 10GB) or Large (10CPU, 50GB) ===\"\n",
    "jobid=$(squeue -hu $USER | awk '/jupyter/ {print $1}')\n",
    "sacct --format=JobID,AllocCPUS,NODELIST -j ${jobid} | head -n 3\n",
    "\n",
    "echo \"=== Working's root folder is ===\"\n",
    "gohome=\"/shared/projects/gonseq/Building/\" # to adjust with your project's folder\n",
    "echo \"${gohome}\"\n",
    "\n",
    "module load multiqc/1.9\n",
    "echo \"===== compiled report =====\"\n",
    "multiqc --version"
   ]
  },
  {
   "cell_type": "code",
   "execution_count": 2,
   "metadata": {},
   "outputs": [],
   "source": [
    "reportfolder=\"${gohome}Results/fastp/\"\n",
    "contascreenfolder=\"${gohome}Results/fastq_screen/\"\n",
    "logfolder=\"${gohome}Results/logfiles/\""
   ]
  },
  {
   "cell_type": "markdown",
   "metadata": {},
   "source": [
    "### **1- Folder, filename, title and comment**\n",
    "\n",
    "Let's remember wher report files are to be placed:"
   ]
  },
  {
   "cell_type": "code",
   "execution_count": 3,
   "metadata": {},
   "outputs": [],
   "source": [
    "qcsummaries=\"${gohome}Results/multiqc/\""
   ]
  },
  {
   "cell_type": "markdown",
   "metadata": {},
   "source": [
    "We specify then names for files and title to display on html report page."
   ]
  },
  {
   "cell_type": "code",
   "execution_count": 4,
   "metadata": {},
   "outputs": [],
   "source": [
    "inamemyfile=\"2_fastp-fastq-files_with_fastqscreen\"\n",
    "\n",
    "mytitle=$(echo \"Fastq files qualities by Fastp (before and after filtering) \" \\\n",
    "\"and FastQ Screen genomes contamination screening\")"
   ]
  },
  {
   "cell_type": "markdown",
   "metadata": {},
   "source": [
    "To keep record of what have been done with these files, I add an additionnal comment to remember for later use (along with to inform others readers):"
   ]
  },
  {
   "cell_type": "code",
   "execution_count": 5,
   "metadata": {},
   "outputs": [],
   "source": [
    "mycomment=$(echo \"Fastq files processed by Fastp with following options. \" \\\n",
    "\"qualified quality: 15, minimum length: 30, removed reads kept in same file.\" \\\n",
    "\"FastQ Screen with bowtie2 (included version) and Babraham genomes reference.\")"
   ]
  },
  {
   "cell_type": "markdown",
   "metadata": {},
   "source": [
    "### **2- Generate summary report**"
   ]
  },
  {
   "cell_type": "code",
   "execution_count": 6,
   "metadata": {},
   "outputs": [
    {
     "name": "stdout",
     "output_type": "stream",
     "text": [
      "Screen output is also saved in multiqc-processing_fastp-quality_and_fastqscreen_screening.log\n",
      "[WARNING]         multiqc : MultiQC Version v1.10.1 now available!\n",
      "[INFO   ]         multiqc : This is MultiQC v1.9\n",
      "[INFO   ]         multiqc : Template    : default\n",
      "[INFO   ]         multiqc : Report title: Fastq files qualities by Fastp (before and after filtering)  and FastQ Screen genomes contamination screening\n",
      "[INFO   ]         multiqc : Searching   : /shared/projects/gonseq/Building/Results/fastp\n",
      "[INFO   ]         multiqc : Searching   : /shared/projects/gonseq/Building/Results/fastq_screen\n",
      "[INFO   ]         multiqc : Searching   : /shared/projects/gonseq/Building/Results\n",
      "[INFO   ]         multiqc : Only using modules fastp, fastq_screen\n",
      "[INFO   ]    fastq_screen : Found 32 reports\n",
      "/shared/ifbstor1/software/miniconda/envs/multiqc-1.9/lib/python3.6/site-packages/multiqc/plots/bargraph.py:451: UserWarning: FixedFormatter should only be used together with FixedLocator\n",
      "  axes.set_xticklabels(['{:.0f}%'.format(x) for x in vals])\n",
      "[INFO   ]           fastp : Found 16 reports\n",
      "/shared/ifbstor1/software/miniconda/envs/multiqc-1.9/lib/python3.6/site-packages/multiqc/plots/bargraph.py:451: UserWarning: FixedFormatter should only be used together with FixedLocator\n",
      "  axes.set_xticklabels(['{:.0f}%'.format(x) for x in vals])\n",
      "[INFO   ]         multiqc : Compressing plot data\n",
      "[INFO   ]         multiqc : Report      : ../../../../../projects/gonseq/Building/Results/multiqc/2_fastp-fastq-files_with_fastqscreen.html\n",
      "[INFO   ]         multiqc : Data        : ../../../../../projects/gonseq/Building/Results/multiqc/2_fastp-fastq-files_with_fastqscreen_data\n",
      "[INFO   ]         multiqc : Plots       : ../../../../../projects/gonseq/Building/Results/multiqc/2_fastp-fastq-files_with_fastqscreen_plots\n",
      "[INFO   ]         multiqc : MultiQC complete\n"
     ]
    }
   ],
   "source": [
    "logfile=\"${logfolder}multiqc-processing_fastp-quality_and_fastqscreen_screening.log\"\n",
    "echo \"Screen output is also saved in ${logfile}\"\n",
    "\n",
    "echo \"operation starting by $(date)\" >> ${logfile}\n",
    "multiqc --interactive --export \\\n",
    "        --module fastp ${reportfolder} \\\n",
    "        --module fastq_screen ${contascreenfolder} \\\n",
    "        --outdir \"${qcsummaries}\" \\\n",
    "        --filename \"${inamemyfile}\" \\\n",
    "        --title \"${mytitle}\"  \\\n",
    "        --comment \"${mycomment}\" \\\n",
    "        \"${gohome}Results/\" \\\n",
    "        |& tee -a ${logfile}\n",
    "echo \"operation finished by $(date)\" >> ${logfile}\n",
    "\n",
    "# to see which files we have afterward and follow folder sizes\n",
    "ls -lh \"${qcsummaries}\" >> ${logfile}\n",
    "ls -lh \"${gohome}Results/\" >> ${logfile}"
   ]
  },
  {
   "cell_type": "markdown",
   "metadata": {},
   "source": [
    "---\n",
    "## <b>V- Current disk usage situation after preprocessing</b>"
   ]
  },
  {
   "cell_type": "markdown",
   "metadata": {},
   "source": [
    "<div class=\"alert alert-block alert-danger\">\n",
    "    Bellow cells have been run again after I performed FastQ Screen and MultiQC additional steps. Thus, after I made mapping and gene-level counting.\n",
    "</div>"
   ]
  },
  {
   "cell_type": "code",
   "execution_count": 7,
   "metadata": {},
   "outputs": [
    {
     "name": "stdout",
     "output_type": "stream",
     "text": [
      "/shared/projects/gonseq/Building/\n",
      "├── Data\n",
      "│   ├── fastq\n",
      "│   ├── info\n",
      "│   └── sra\n",
      "├── Pipeline\n",
      "├── Reference\n",
      "│   ├── extracted\n",
      "│   └── indexes_upto49bases\n",
      "└── Results\n",
      "    ├── fastp\n",
      "    ├── fastqc\n",
      "    ├── fastq_screen\n",
      "    ├── featurecounts\n",
      "    ├── logfiles\n",
      "    ├── multiqc\n",
      "    ├── qualimap\n",
      "    ├── samtools\n",
      "    └── star\n",
      "\n",
      "18 directories\n"
     ]
    }
   ],
   "source": [
    "# little look at the folder's tree\n",
    "tree -d -L 2 \"${gohome}\""
   ]
  },
  {
   "cell_type": "markdown",
   "metadata": {},
   "source": [
    "Used options are:\n",
    "<blockquote>\n",
    "    <code>-d</code> to list only directories <br>\n",
    "    Adding <code>-L</code> option and a number to avoid going too deep in the tree... and let the output be still readable.\n",
    "</blockquote>"
   ]
  },
  {
   "cell_type": "code",
   "execution_count": 8,
   "metadata": {},
   "outputs": [
    {
     "name": "stdout",
     "output_type": "stream",
     "text": [
      "34M\t/shared/projects/gonseq/Building/Results/multiqc\n",
      "676M\t/shared/projects/gonseq/Building/Results/featurecounts\n",
      "8.4M\t/shared/projects/gonseq/Building/Results/fastp\n",
      "3.8M\t/shared/projects/gonseq/Building/Results/samtools\n",
      "20M\t/shared/projects/gonseq/Building/Results/logfiles\n",
      "34M\t/shared/projects/gonseq/Building/Results/fastqc\n",
      "117G\t/shared/projects/gonseq/Building/Results/star\n",
      "4.0K\t/shared/projects/gonseq/Building/Results/.ipynb_checkpoints\n",
      "12G\t/shared/projects/gonseq/Building/Results/fastq_screen\n",
      "38M\t/shared/projects/gonseq/Building/Results/qualimap\n",
      "130G\t/shared/projects/gonseq/Building/Results\n",
      "154G\t/shared/projects/gonseq/Building/Data/fastq\n",
      "46G\t/shared/projects/gonseq/Building/Data/sra\n",
      "44K\t/shared/projects/gonseq/Building/Data/info\n",
      "36K\t/shared/projects/gonseq/Building/Data/.ipynb_checkpoints\n",
      "199G\t/shared/projects/gonseq/Building/Data\n",
      "4.0K\t/shared/projects/gonseq/Building/.ipynb_checkpoints\n",
      "248K\t/shared/projects/gonseq/Building/Pipeline/.ipynb_checkpoints\n",
      "504K\t/shared/projects/gonseq/Building/Pipeline\n",
      "1.4G\t/shared/projects/gonseq/Building/Reference/extracted\n",
      "28G\t/shared/projects/gonseq/Building/Reference/indexes_upto49bases\n",
      "8.0K\t/shared/projects/gonseq/Building/Reference/.ipynb_checkpoints\n",
      "30G\t/shared/projects/gonseq/Building/Reference\n",
      "358G\t/shared/projects/gonseq/Building/\n",
      "358G\ttotal\n"
     ]
    }
   ],
   "source": [
    "# memry usage by folder and subfolders\n",
    "du -ch -d2 \"${gohome}\""
   ]
  },
  {
   "cell_type": "markdown",
   "metadata": {},
   "source": [
    "The options stand for:\n",
    "<blockquote>\n",
    "    <code>-c</code> or <code>--total</code> to have total amount displayed <br>\n",
    "    <code>-h</code> or <code>--human-readable</code>  to get sizes in Mega and Giga bytes format <br>\n",
    "    <code>-dx</code> or <code>--max-depth=x</code> to limit folder enumeration to x levels\n",
    "</blockquote>"
   ]
  },
  {
   "cell_type": "markdown",
   "metadata": {},
   "source": [
    "\n",
    "---\n",
    "___\n",
    "\n",
    "Now we go on to map reads on the reference genome and observing.  \n",
    "  \n",
    "**=> Step 4 : Classical reads mapping** \n",
    "\n",
    "\n",
    "---\n",
    "___\n",
    "\n",
    "Another option exists to go faster (but we'll probably miss some observations): carrying out a pseudo mapping.  \n",
    "  \n",
    "**=> Alternate step 4 : Pseudomapping**"
   ]
  }
 ],
 "metadata": {
  "kernelspec": {
   "display_name": "Bash",
   "language": "bash",
   "name": "bash"
  },
  "language_info": {
   "codemirror_mode": "shell",
   "file_extension": ".sh",
   "mimetype": "text/x-sh",
   "name": "bash"
  }
 },
 "nbformat": 4,
 "nbformat_minor": 4
}
