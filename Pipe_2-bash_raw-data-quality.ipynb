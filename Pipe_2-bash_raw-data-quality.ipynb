{
 "cells": [
  {
   "cell_type": "markdown",
   "metadata": {},
   "source": [
    "# Observing raw data before processing them"
   ]
  },
  {
   "cell_type": "markdown",
   "metadata": {},
   "source": [
    "<b>File completed </b> (05/17/2021)\n",
    "Table of Contents + tool versions on 06/22/2021\n",
    "\n",
    "Bénédicte Noblet\n",
    "\n",
    "- Preparing session for IFB core cluster\n",
    "- Some checks as a precaution\n",
    "- First quality control on raw `.fastq.gz` files\n",
    "- Having a summary report with MultiQC\n"
   ]
  },
  {
   "cell_type": "markdown",
   "metadata": {},
   "source": [
    "---\n",
    "\n",
    "## <b>Preparing session for IFB core cluster</b>\n",
    "\n",
    "<em>loaded JupyterLab</em> : Version 2.2.9"
   ]
  },
  {
   "cell_type": "code",
   "execution_count": 1,
   "metadata": {},
   "outputs": [
    {
     "name": "stdout",
     "output_type": "stream",
     "text": [
      "=== Cell launched on Mon May 17 12:18:33 CEST 2021 ===\n",
      "=== Current IFB session size: Medium (4CPU, 10GB) or Large (10CPU, 50GB) ===\n",
      "       JobID  AllocCPUS        NodeList \n",
      "------------ ---------- --------------- \n",
      "16507470             10     cpu-node-39 \n",
      "16507470.ba+         10     cpu-node-39 \n",
      "16507470.0           10     cpu-node-39 \n",
      "=== Working's root folder is ===\n",
      "/shared/projects/gonseq/Building/\n",
      "\n",
      "=== current folder tree ===\n",
      "/shared/projects/gonseq/Building/\n",
      "├── Data\n",
      "│   ├── fastq\n",
      "│   │   └── raw\n",
      "│   │       ├── SRR7430706_1.fastq.gz\n",
      "│   │       ├── SRR7430706_2.fastq.gz\n",
      "│   │       ├── SRR7430707_1.fastq.gz\n",
      "│   │       ├── SRR7430707_2.fastq.gz\n",
      "│   │       ├── SRR7430708_1.fastq.gz\n",
      "│   │       ├── SRR7430708_2.fastq.gz\n",
      "│   │       ├── SRR7430709_1.fastq.gz\n",
      "│   │       ├── SRR7430709_2.fastq.gz\n",
      "│   │       ├── SRR7430710_1.fastq.gz\n",
      "│   │       ├── SRR7430710_2.fastq.gz\n",
      "│   │       ├── SRR7430711_1.fastq.gz\n",
      "│   │       ├── SRR7430711_2.fastq.gz\n",
      "│   │       ├── SRR7430712_1.fastq.gz\n",
      "│   │       ├── SRR7430712_2.fastq.gz\n",
      "│   │       ├── SRR7430713_1.fastq.gz\n",
      "│   │       ├── SRR7430713_2.fastq.gz\n",
      "│   │       ├── SRR7430738_1.fastq.gz\n",
      "│   │       ├── SRR7430738_2.fastq.gz\n",
      "│   │       ├── SRR7430739_1.fastq.gz\n",
      "│   │       ├── SRR7430739_2.fastq.gz\n",
      "│   │       ├── SRR7430740_1.fastq.gz\n",
      "│   │       ├── SRR7430740_2.fastq.gz\n",
      "│   │       ├── SRR7430741_1.fastq.gz\n",
      "│   │       ├── SRR7430741_2.fastq.gz\n",
      "│   │       ├── SRR7430742_1.fastq.gz\n",
      "│   │       ├── SRR7430742_2.fastq.gz\n",
      "│   │       ├── SRR7430743_1.fastq.gz\n",
      "│   │       ├── SRR7430743_2.fastq.gz\n",
      "│   │       ├── SRR7430744_1.fastq.gz\n",
      "│   │       ├── SRR7430744_2.fastq.gz\n",
      "│   │       ├── SRR7430745_1.fastq.gz\n",
      "│   │       └── SRR7430745_2.fastq.gz\n",
      "│   ├── info\n",
      "│   │   ├── 16samples_SraRunTable.txt\n",
      "│   │   ├── 16samples_SRR_Acc_List.txt\n",
      "│   │   ├── SraRunTable.txt\n",
      "│   │   └── SRR_Acc_List.txt\n",
      "│   ├── sra\n",
      "│   │   ├── SRR7430706\n",
      "│   │   │   └── SRR7430706.sra\n",
      "│   │   ├── SRR7430707\n",
      "│   │   │   └── SRR7430707.sra\n",
      "│   │   ├── SRR7430708\n",
      "│   │   │   └── SRR7430708.sra\n",
      "│   │   ├── SRR7430709\n",
      "│   │   │   └── SRR7430709.sra\n",
      "│   │   ├── SRR7430710\n",
      "│   │   │   └── SRR7430710.sra\n",
      "│   │   ├── SRR7430711\n",
      "│   │   │   └── SRR7430711.sra\n",
      "│   │   ├── SRR7430712\n",
      "│   │   │   └── SRR7430712.sra\n",
      "│   │   ├── SRR7430713\n",
      "│   │   │   └── SRR7430713.sra\n",
      "│   │   ├── SRR7430738\n",
      "│   │   │   └── SRR7430738.sra\n",
      "│   │   ├── SRR7430739\n",
      "│   │   │   └── SRR7430739.sra\n",
      "│   │   ├── SRR7430740\n",
      "│   │   │   └── SRR7430740.sra\n",
      "│   │   ├── SRR7430741\n",
      "│   │   │   └── SRR7430741.sra\n",
      "│   │   ├── SRR7430742\n",
      "│   │   │   └── SRR7430742.sra\n",
      "│   │   ├── SRR7430743\n",
      "│   │   │   └── SRR7430743.sra\n",
      "│   │   ├── SRR7430744\n",
      "│   │   │   └── SRR7430744.sra\n",
      "│   │   └── SRR7430745\n",
      "│   │       └── SRR7430745.sra\n",
      "│   ├── sra-files_creation_fastqgz.log\n",
      "│   ├── sra-files_integrity.log\n",
      "│   └── sra-files_retrieval.log\n",
      "├── Pipeline\n",
      "│   ├── Pipe_1-bash_download-files.ipynb\n",
      "│   ├── Pipe_2-bash_raw-data-quality.ipynb\n",
      "│   └── Pipe_3-bash_preprocessing-and-verify.ipynb\n",
      "└── Results\n",
      "\n",
      "23 directories, 58 files\n",
      "=== current working directory ===\n",
      "/shared/ifbstor1/projects/gonseq/Building/Pipeline\n"
     ]
    }
   ],
   "source": [
    "echo \"=== Cell launched on $(date) ===\"\n",
    "\n",
    "echo \"=== Current IFB session size: Medium (4CPU, 10GB) or Large (10CPU, 50GB) ===\"\n",
    "jobid=$(squeue -hu $USER | awk '/jupyter/ {print $1}')\n",
    "sacct --format=JobID,AllocCPUS,NODELIST -j ${jobid}\n",
    "\n",
    "echo \"=== Working's root folder is ===\"\n",
    "gohome=\"/shared/projects/gonseq/Building/\" # to adjust with your project's folder\n",
    "echo \"${gohome}\"\n",
    "echo \"\"\n",
    "\n",
    "echo \"=== current folder tree ===\"\n",
    "tree \"${gohome}\"\n",
    "echo \"=== current working directory ===\"\n",
    "echo \"${PWD}\""
   ]
  },
  {
   "cell_type": "code",
   "execution_count": 2,
   "metadata": {},
   "outputs": [
    {
     "name": "stdout",
     "output_type": "stream",
     "text": [
      "===== basic calulator =====\n",
      "bc 1.07.1\n",
      "===== individual reports =====\n",
      "FastQC v0.11.9\n",
      "===== compiled report =====\n",
      "multiqc, version 1.9\n"
     ]
    }
   ],
   "source": [
    "module load bc/1.07.1 fastqc/0.11.9 multiqc/1.9\n",
    "\n",
    "echo \"===== basic calulator =====\"\n",
    "bc --version | head -n 1\n",
    "echo \"===== individual reports =====\"\n",
    "fastqc --version\n",
    "echo \"===== compiled report =====\"\n",
    "multiqc --version"
   ]
  },
  {
   "cell_type": "markdown",
   "metadata": {},
   "source": [
    "---\n",
    "## <b>I- Some checks as a precaution</b>"
   ]
  },
  {
   "cell_type": "markdown",
   "metadata": {},
   "source": [
    "### **1- Available files**"
   ]
  },
  {
   "cell_type": "markdown",
   "metadata": {},
   "source": [
    "The data files are already present on the server, in the `Data/fastq/raw/` folder of our current working directory.\n",
    "\n",
    "As we change session and or day, let's first check all files are there using following commands and they correspo"
   ]
  },
  {
   "cell_type": "code",
   "execution_count": 3,
   "metadata": {},
   "outputs": [
    {
     "name": "stdout",
     "output_type": "stream",
     "text": [
      "There are 32 raw .fastq.gz files:\n",
      "SRR7430706_1.fastq.gz  SRR7430711_2.fastq.gz  SRR7430741_1.fastq.gz\n",
      "SRR7430706_2.fastq.gz  SRR7430712_1.fastq.gz  SRR7430741_2.fastq.gz\n",
      "SRR7430707_1.fastq.gz  SRR7430712_2.fastq.gz  SRR7430742_1.fastq.gz\n",
      "SRR7430707_2.fastq.gz  SRR7430713_1.fastq.gz  SRR7430742_2.fastq.gz\n",
      "SRR7430708_1.fastq.gz  SRR7430713_2.fastq.gz  SRR7430743_1.fastq.gz\n",
      "SRR7430708_2.fastq.gz  SRR7430738_1.fastq.gz  SRR7430743_2.fastq.gz\n",
      "SRR7430709_1.fastq.gz  SRR7430738_2.fastq.gz  SRR7430744_1.fastq.gz\n",
      "SRR7430709_2.fastq.gz  SRR7430739_1.fastq.gz  SRR7430744_2.fastq.gz\n",
      "SRR7430710_1.fastq.gz  SRR7430739_2.fastq.gz  SRR7430745_1.fastq.gz\n",
      "SRR7430710_2.fastq.gz  SRR7430740_1.fastq.gz  SRR7430745_2.fastq.gz\n",
      "SRR7430711_1.fastq.gz  SRR7430740_2.fastq.gz\n"
     ]
    }
   ],
   "source": [
    "rawfolder=\"${gohome}Data/fastq/raw/\"\n",
    "\n",
    "echo \"There are $(ls ${rawfolder} | wc -l) raw .fastq.gz files:\"\n",
    "ls ${rawfolder}"
   ]
  },
  {
   "cell_type": "markdown",
   "metadata": {},
   "source": [
    "The files consist of raw data from the Illumina sequencer (`.fastq`) which sizes have been reduced (`.gz`) thanks to compression (``gunzip`` or ``pigz``, see `Pipe_1.ipynb` notebook). As genomics tools can deal with both compressed and uncompressed file formats, we'll save disk space using the compressed ones."
   ]
  },
  {
   "cell_type": "markdown",
   "metadata": {},
   "source": [
    "### **2- Examining data files: are they what we expect?**"
   ]
  },
  {
   "cell_type": "markdown",
   "metadata": {},
   "source": [
    "Let's pick up one file to see inside.\n",
    "\n",
    "We list the files in the folder and ask for only the first line (``-n 1``)."
   ]
  },
  {
   "cell_type": "code",
   "execution_count": 4,
   "metadata": {},
   "outputs": [
    {
     "name": "stdout",
     "output_type": "stream",
     "text": [
      "/shared/projects/gonseq/Building/Data/fastq/raw/SRR7430706_1.fastq.gz\n"
     ]
    }
   ],
   "source": [
    "arawfile=$(ls \"${rawfolder}\"*gz | head -n 1)\n",
    "echo ${arawfile}"
   ]
  },
  {
   "cell_type": "markdown",
   "metadata": {},
   "source": [
    "``.fastq`` files are readable by the human eye, and we can display the first lines of this file, using the Unix ``head`` command on the ``zcat`` command that can deal with ``.gzip`` files."
   ]
  },
  {
   "cell_type": "code",
   "execution_count": 5,
   "metadata": {},
   "outputs": [
    {
     "name": "stdout",
     "output_type": "stream",
     "text": [
      "@SRR7430706.1 HWI-ST1136:323:HS214:3:1101:1373:1854 length=50\n",
      "NCCAGCCACTCGGGAGGCCAAGGCAGGAGAATCACTCGGACCCAGGGTTG\n",
      "+SRR7430706.1 HWI-ST1136:323:HS214:3:1101:1373:1854 length=50\n",
      "#1=DFFFFHHHHHIIIJJJJJJJJJJJGFHIJIJJIJJJJJJJJJJJEHH\n",
      "@SRR7430706.2 HWI-ST1136:323:HS214:3:1101:1409:1928 length=50\n",
      "NTGGAGTCTTGGAAGCTTGACTACCCTACGTTCTCCTACAAATGGACCTT\n",
      "+SRR7430706.2 HWI-ST1136:323:HS214:3:1101:1409:1928 length=50\n",
      "#4=DFFDEHHHHHJJJJJJJJJJJJJJJJJJJJJJJJJJJJJJJJJJJJJ\n",
      "@SRR7430706.3 HWI-ST1136:323:HS214:3:1101:1305:1955 length=50\n",
      "NTATGGTGGGAGCTTTCCCACAGAACATTTTCAGTGTGAGTGAATCAATA\n",
      "\n",
      "gzip: stdout: Broken pipe\n"
     ]
    }
   ],
   "source": [
    "zcat ${arawfile} | head"
   ]
  },
  {
   "cell_type": "markdown",
   "metadata": {},
   "source": [
    "We expect to have text file with 4 files per read (sequence):\n",
    "- read identification starts with `@`\n",
    "- sequence itself (some `N` may appear when bases are undetermined)\n",
    "- a line separator starting with `+` and the identifier again (for first sequencers) or nothing else\n",
    "- phred quality string with special characters (ranging from 33 to 41 in an ASCII table)\n",
    "\n",
    "<div class=\"alert alert-block alert-info\">\n",
    "    For more information on phred score and history, please refer to <a href=\"https://en.wikipedia.org/wiki/FASTQ_format#Encoding\">FASTQ format wikipedia page</a> that display graphical view for different phred score encoding.\n",
    "</div>\n",
    "\n",
    "To count lines in that file:"
   ]
  },
  {
   "cell_type": "code",
   "execution_count": 6,
   "metadata": {},
   "outputs": [
    {
     "name": "stdout",
     "output_type": "stream",
     "text": [
      "\n",
      "real\t1m22.779s\n",
      "user\t1m21.912s\n",
      "sys\t0m6.036s\n",
      "209335740\n"
     ]
    }
   ],
   "source": [
    "time wcloutput=$(zcat ${arawfile} | wc -l)\n",
    "echo ${wcloutput}"
   ]
  },
  {
   "cell_type": "markdown",
   "metadata": {},
   "source": [
    "For those who don't want to fetch for a calculator, we will use the `bc`  basic calculator that allow to use decimal in `bash`."
   ]
  },
  {
   "cell_type": "code",
   "execution_count": 7,
   "metadata": {},
   "outputs": [
    {
     "name": "stdout",
     "output_type": "stream",
     "text": [
      "52333935.00\n"
     ]
    }
   ],
   "source": [
    "echo \"scale=2; ${wcloutput}/4\" | bc -l"
   ]
  },
  {
   "cell_type": "markdown",
   "metadata": {},
   "source": [
    "If the result ends with no decimal (*i.e.* `.00`) along with correct file format (upper bullet point list), we have a good start... else please ask for information to the data supplier (platform or colleagues, file extensions are easy to add, change or even overwrite files...)."
   ]
  },
  {
   "cell_type": "markdown",
   "metadata": {},
   "source": [
    "<blockquote>\n",
    "    <ul>\n",
    "        <li> Alternatively, we can get directly get the number of reads noticing all reads in this file starting (<code>^</code> in an expression pattern) with <code>@SRR</code>, using the command <code>zgrep</code> to do the pattern search in a <code>.gz</code> file: <br> <mark>makes Adenine stops running</mark> </li>\n",
    "    </ul>\n",
    "</blockquote>"
   ]
  },
  {
   "cell_type": "code",
   "execution_count": 8,
   "metadata": {},
   "outputs": [
    {
     "name": "stdout",
     "output_type": "stream",
     "text": [
      "52333935\n",
      "\n",
      "real\t1m20.775s\n",
      "user\t1m30.358s\n",
      "sys\t0m10.563s\n"
     ]
    }
   ],
   "source": [
    "time zgrep \"^@SRR\" ${arawfile} | wc -l"
   ]
  },
  {
   "cell_type": "markdown",
   "metadata": {},
   "source": [
    "---\n",
    "## <b>II - First quality control on raw <code>.fastq.gz</code> files</b>"
   ]
  },
  {
   "cell_type": "markdown",
   "metadata": {},
   "source": [
    "### **1- Tool version and introduction**\n",
    "For this step, we will use <a href=\"https://www.bioinformatics.babraham.ac.uk/projects/fastqc/\"><b>FASTQC</b></a> (notebook developped with ``FastQC v0.11.9``)."
   ]
  },
  {
   "cell_type": "code",
   "execution_count": 9,
   "metadata": {},
   "outputs": [
    {
     "name": "stdout",
     "output_type": "stream",
     "text": [
      "FastQC v0.11.9\n"
     ]
    }
   ],
   "source": [
    "fastqc --version"
   ]
  },
  {
   "cell_type": "markdown",
   "metadata": {},
   "source": [
    "To analyze a sample, we could launch: <br>\n",
    "<code>fastqc --outdir path/to/destination/folder/ \\ <br>        path/to/file.fastq.gz</code> <br>\n",
    "where <code>-- outdir</code> introduces the path where you want new created files to be saved, while file to be analyzed is placed at the end of the line. <br>\n",
    "<br>\n",
    "For several samples, we can directly launch <code>fastqc</code> with a list of files to analyze. As several cores are availables, we can ask for <code>fastqc</code> to deal with several files at a time.\n",
    "<blockquote>\n",
    "    <code>-t 16</code> or <code>-threads 16</code> to ask for 16 files to be managed in parallel, knowing that each process will use 250 MB of RAM memory (<em>so 4 GB at a time for 16 threads, and 32 files is also 2 times 16 samples)</em> \n",
    "</blockquote>"
   ]
  },
  {
   "cell_type": "markdown",
   "metadata": {},
   "source": [
    "### **2- Prepare destination folders**"
   ]
  },
  {
   "cell_type": "markdown",
   "metadata": {},
   "source": [
    "We will store output files in ``Results/`` and in a subfolder called ``fastqc/``."
   ]
  },
  {
   "cell_type": "code",
   "execution_count": 10,
   "metadata": {},
   "outputs": [],
   "source": [
    "qcfolder=\"${gohome}Results/fastqc/\"\n",
    "mkdir -p \"${qcfolder}\""
   ]
  },
  {
   "cell_type": "markdown",
   "metadata": {},
   "source": [
    "As it's easier to work with files saved close to each other, the matched ``.log`` file will be saved in a ``logfiles/`` subfolder, also placed in ``Results/``."
   ]
  },
  {
   "cell_type": "code",
   "execution_count": 11,
   "metadata": {},
   "outputs": [],
   "source": [
    "logfolder=\"${gohome}Results/logfiles/\"\n",
    "mkdir -p \"${logfolder}\""
   ]
  },
  {
   "cell_type": "markdown",
   "metadata": {},
   "source": [
    "### **3- Run ``fastqc`` tool**"
   ]
  },
  {
   "cell_type": "code",
   "execution_count": 12,
   "metadata": {},
   "outputs": [
    {
     "name": "stdout",
     "output_type": "stream",
     "text": [
      "Screen output is redirected to /shared/projects/gonseq/Building/Results/logfiles/fastqc_raw-quality-processing.log\n",
      "\n",
      "real\t18m18.879s\n",
      "user\t140m50.451s\n",
      "sys\t3m42.930s\n",
      "32 generated .html reports\n"
     ]
    }
   ],
   "source": [
    "logfile=\"${logfolder}fastqc_raw-quality-processing.log\"\n",
    "echo \"Screen output is redirected to ${logfile}\"\n",
    "\n",
    "# as time command does not redirect output\n",
    "echo \"operation starting by $(date)\" >> ${logfile}\n",
    "\n",
    "time fastqc --outdir ${qcfolder} --threads 16 \\\n",
    "            $(echo \"${rawfolder}\"*.gz)\\\n",
    "            &>> ${logfile}\n",
    "echo \"operation finished by $(date)\" >> ${logfile}\n",
    "\n",
    "# to see which files we have afterward and follow folder sizes\n",
    "ls -lh ${qcfolder} >> ${logfile}\n",
    "ls -lh \"${gohome}Results/\" >> ${logfile}\n",
    "\n",
    "echo \"$(ls -l \"${qcfolder}\"*.html | wc -l) generated .html reports\""
   ]
  },
  {
   "cell_type": "markdown",
   "metadata": {},
   "source": [
    "The ouputs are in a `.zip` folder and a `.html` file, the latest being a complete summary of the analysis. <br>\n",
    "To open this `html` file, in the left-hand panel of *JupyterLab* double-click the \"Results\" folder, and in it, on the html file: it should open in a new tab beside this notebook. <br>"
   ]
  },
  {
   "cell_type": "markdown",
   "metadata": {},
   "source": [
    "If you have no teacher nor bionformatician (or maybe they don't know either of this subject), you can browse some links:\n",
    "<ul class=\"alert alert-block alert-info\">\n",
    "    <li><code>fastqc</code>'s help sections on <a href=\"https://www.bioinformatics.babraham.ac.uk/projects/fastqc/Help/\">its raw (no layout!) website</a>\n",
    "    </li>\n",
    "    <li>Michigan state University's support facility offers a nicer <a heef=\"https://rtsf.natsci.msu.edu/genomics/tech-notes/fastqc-tutorial-and-faq/\">FASTQC Tutorial and FAQ</a>\n",
    "    </li>\n",
    "    <li><i>Assessing quality metrics</i>'s section in <a ref=\"https://hbctraining.github.io/Intro-to-rnaseq-hpc-salmon/lessons/qc_fastqc_assessment.html\">Quality control</a>, from a former workshop by the <i>Harvard Chan Bioinformatics Core</i> (HBC). <br>\n",
    "        <i>++</i>: <b>some schemes on sequencing run and detailed information in general</b> \n",
    "    </li>\n",
    "    <li><a hef=\"https://huoww07.github.io/Bioinformatics-for-RNA-Seq/lessons/02_Quality_Control.html#understand-fastqc-report\">RNA sequencing quality control with fastQC</a>'s section of <i>Tufts University Research Technology Workshop</i>\n",
    "    </li>\n",
    "</ul>\n",
    "\n",
    "After eyeing one file (<i>so only one sample!</i>), you may want to view all results at the same time to compare between samples. That's where MultiQC and next steps will help us."
   ]
  },
  {
   "cell_type": "markdown",
   "metadata": {},
   "source": [
    "## <b>III- Having a summary report with MultiQC</b>"
   ]
  },
  {
   "cell_type": "markdown",
   "metadata": {},
   "source": [
    "When numerous samples are processed, it can easily become tedious to look in each mapping quality report. To that purpose, we will run <a href=\"https://multiqc.info/\"><b>MultiQC</b></a>, that scans automatically a folder for all quality checks outputs and produce a single report."
   ]
  },
  {
   "cell_type": "markdown",
   "metadata": {},
   "source": [
    "### **1- Tool version and short presentation**"
   ]
  },
  {
   "cell_type": "markdown",
   "metadata": {},
   "source": [
    "This notebook was developped with ``multiqc, version 1.9``, even if next version (1.10) appeared meanwhile."
   ]
  },
  {
   "cell_type": "code",
   "execution_count": 13,
   "metadata": {},
   "outputs": [
    {
     "name": "stdout",
     "output_type": "stream",
     "text": [
      "multiqc, version 1.9\n"
     ]
    }
   ],
   "source": [
    "multiqc --version"
   ]
  },
  {
   "cell_type": "markdown",
   "metadata": {},
   "source": [
    "This tool deals with almost any possible NGS tools: see <a href=\"https://multiqc.info/docs/#multiqc-modules\">the onlinefull updated list</a> for more details and to know how it works (detectd files and folder extensions)."
   ]
  },
  {
   "cell_type": "markdown",
   "metadata": {},
   "source": [
    "By default, ``multiqc`` identifies any report it can parse from the input directory.\n",
    "If you want to only generate a multiQC report on specific analyses, you can add the argument ``-m`` followed by the name of the module as for example:\n",
    "<code>multiqc -m fastqc ./Results/Fastqc/ -o /Results/MultiQC_on_FastQC</code>\n",
    "> You can add several modules ``-m fastqc dir_fastqc -m qualimap dir_qualimap`` etc..."
   ]
  },
  {
   "cell_type": "markdown",
   "metadata": {},
   "source": [
    "### **2- Folder, filename, title and comment**\n",
    "\n",
    "We will create a subfolder in the ``Results/`` folder for ``multiqc``."
   ]
  },
  {
   "cell_type": "code",
   "execution_count": 14,
   "metadata": {},
   "outputs": [],
   "source": [
    "qcsummaries=\"${gohome}Results/multiqc/\"\n",
    "mkdir -p ${qcsummaries}"
   ]
  },
  {
   "cell_type": "markdown",
   "metadata": {},
   "source": [
    "All downstream reports will also be saved here and we will use different file names.\n",
    "\n",
    "We will ask MultiQC for specific and meaning filenames and title using ``-n`` and ``-i`` options.\n",
    "<blockquote>\n",
    "    <code>-n</code> or <code>--filename TEXT</code> to have a non-default report filename (warning: <code>stdout</code> will just print results to console <br>\n",
    "    <code>-i</code> or <code>--title</code>, to change file header. Also used for filename if option not specified <br>\n",
    "    <code>-b</code> or <code>--comment</code> to add any text section in report\n",
    "</blockquote>\n",
    "\n",
    "Please, specify **file name** you want to have (do not worry about extension, MultiQC will handle this for us) inside quotes in the next cell.  \n",
    "<b>DO NOT use spaces or any special characters!</b> "
   ]
  },
  {
   "cell_type": "code",
   "execution_count": 15,
   "metadata": {},
   "outputs": [],
   "source": [
    "inamemyfile=\"1_raw-fastq-files\""
   ]
  },
  {
   "cell_type": "markdown",
   "metadata": {},
   "source": [
    "Please, specify a meaningful **title** inside quotes in the next cell, to display at the head of your oncoming report.\n",
    "<b>No more space limit but still avoid any special characters.</b> "
   ]
  },
  {
   "cell_type": "code",
   "execution_count": 16,
   "metadata": {},
   "outputs": [],
   "source": [
    "mytitle=\"Raw fastq files quality for 16 paired end sequenced samples\""
   ]
  },
  {
   "cell_type": "markdown",
   "metadata": {},
   "source": [
    "Besides, we can add a comment in header's report. It's a good practise to do so. So we will define it in following cell.\n",
    "\n",
    "> In this cell, we use several lines to keep it readable when displaying notebook. As your text lines are just collapsed together in the html report, be sure to keep last blank space when ending every line)."
   ]
  },
  {
   "cell_type": "code",
   "execution_count": 17,
   "metadata": {},
   "outputs": [],
   "source": [
    "mycomment=$(echo \"Raw fastq files from bulk RNA sequencing (human, stranded, rRNA depletion) \" \\\n",
    "\"performed by Lecluze et al. 2020 (PMID: 32412604, GEO: GSE116278, SRA: SR151462). \" \\\n",
    "\"Sample set is limited to fetal ovaries and testes at 6 and 12 PCWeeks (n=4 per condition). \" \\\n",
    "\"SRR7430706-709: female 6 PCW, 709-713: male 6 PCW, 738-741: female 12 PCW, 742-745: male 12 PCW.\")"
   ]
  },
  {
   "cell_type": "markdown",
   "metadata": {},
   "source": [
    "### **3- Generate summary report**"
   ]
  },
  {
   "cell_type": "markdown",
   "metadata": {},
   "source": [
    "MultiQC is verbose but, as it will work only on FastQC reports, it is quite short.  \n",
    "So, we will let it lines show in notebook while saving them in a file for later use."
   ]
  },
  {
   "cell_type": "code",
   "execution_count": 19,
   "metadata": {},
   "outputs": [
    {
     "name": "stdout",
     "output_type": "stream",
     "text": [
      "Screen output is also saved in /shared/projects/gonseq/Building/Results/logfiles/multiqc-processing_raw-quality.log\n",
      "[WARNING]         multiqc : MultiQC Version v1.10.1 now available!\n",
      "[INFO   ]         multiqc : This is MultiQC v1.9\n",
      "[INFO   ]         multiqc : Template    : default\n",
      "[INFO   ]         multiqc : Report title: Raw fastq files quality for 16 paired end sequenced samples\n",
      "[INFO   ]         multiqc : Searching   : /shared/projects/gonseq/Building/Results/fastqc\n",
      "[INFO   ]          fastqc : Found 32 reports\n",
      "/shared/ifbstor1/software/miniconda/envs/multiqc-1.9/lib/python3.6/site-packages/multiqc/plots/bargraph.py:451: UserWarning: FixedFormatter should only be used together with FixedLocator\n",
      "  axes.set_xticklabels(['{:.0f}%'.format(x) for x in vals])\n",
      "[INFO   ]         multiqc : Compressing plot data\n",
      "[INFO   ]         multiqc : Report      : ../../../../../projects/gonseq/Building/Results/multiqc/1_raw-fastq-files.html\n",
      "[INFO   ]         multiqc : Data        : ../../../../../projects/gonseq/Building/Results/multiqc/1_raw-fastq-files_data\n",
      "[INFO   ]         multiqc : Plots       : ../../../../../projects/gonseq/Building/Results/multiqc/1_raw-fastq-files_plots\n",
      "[INFO   ]         multiqc : MultiQC complete\n"
     ]
    }
   ],
   "source": [
    "logfile=\"${logfolder}multiqc-processing_raw-quality.log\"\n",
    "echo \"Screen output is also saved in ${logfile}\"\n",
    "\n",
    "# as time command does not redirect output\n",
    "echo \"operation starting by $(date)\" >> ${logfile}\n",
    "multiqc --interactive --export \\\n",
    "        --outdir \"${qcsummaries}\" \\\n",
    "        --filename \"${inamemyfile}\" \\\n",
    "        --title \"${mytitle}\"  \\\n",
    "        --comment \"${mycomment}\" \\\n",
    "        \"${qcfolder}\" \\\n",
    "        |& tee -a ${logfile}\n",
    "echo \"operation finished by $(date)\" >> ${logfile}\n",
    "\n",
    "# to see which files we have afterward and follow folder sizes\n",
    "ls -lh \"${qcsummaries}\" >> ${logfile}\n",
    "ls -lh \"${gohome}Results/\" >> ${logfile}"
   ]
  },
  {
   "cell_type": "markdown",
   "metadata": {},
   "source": [
    "The three options that have not been yet introduced previously in this notebook are:\n",
    "<blockquote>\n",
    "    <code>-ip</code> or <code>--interactive</code> stands for integrate dynamical graphics to have interactive plots in html report <br>\n",
    "    <code>-p</code> or <code>--export</code> to export plot as static images besides html report <br>\n",
    "    <code>-o</code> or <code>--outdir</code> to define the destination folder for output and report files <br>\n",
    "    then, folder we want to be scanned <br>\n",
    "</blockquote>\n",
    "\n",
    "Others options exist: <br>\n",
    "<blockquote>\n",
    "     <code>-m</code> or <code>--module</code> to limit MultiqQC's searches for some quality tools <br>\n",
    "    <code>-d</code> or <code>--dirs</code> to append directory names to files (useful for same names in different folders) <br>\n",
    "    <code>-f</code> or <code>--force</code> to force overwriting existing files <br>\n",
    "    <code>-v</code> or <code>--verbose</code> to increase output verbosity <br>\n",
    "    <code>--tag TEXT</code> if only TEXT-matching modules are desired <br>\n",
    "    <code>--pdf</code> to get a pdf report (available only with <code>pandoc</code> library)\n",
    "</blockquote>"
   ]
  },
  {
   "cell_type": "markdown",
   "metadata": {},
   "source": [
    "To open the report (``.html`` file using Javascript, language not supported by *JupyterLab* so far), download the html file from the left-hand panel and open it in your own browser for it to express its full abilities."
   ]
  },
  {
   "cell_type": "markdown",
   "metadata": {},
   "source": [
    "\n",
    "---\n",
    "___\n",
    "\n",
    "After you watch MultiQC in order to know what to correct for your data, please proceed to next step.\n",
    "  \n",
    "**=> Step 3 : Preprocessing reads and checking for their quality** "
   ]
  }
 ],
 "metadata": {
  "kernelspec": {
   "display_name": "Bash",
   "language": "bash",
   "name": "bash"
  },
  "language_info": {
   "codemirror_mode": "shell",
   "file_extension": ".sh",
   "mimetype": "text/x-sh",
   "name": "bash"
  }
 },
 "nbformat": 4,
 "nbformat_minor": 4
}
