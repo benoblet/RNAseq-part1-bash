{
 "cells": [
  {
   "cell_type": "markdown",
   "metadata": {},
   "source": [
    "# Mapping quality check"
   ]
  },
  {
   "cell_type": "markdown",
   "metadata": {},
   "source": [
    "<big><b>File under construction... </b></big> (05/21/2021) <br>"
   ]
  },
  {
   "cell_type": "markdown",
   "metadata": {},
   "source": [
    "---\n",
    "\n",
    "## <b>Preparing session for IFB core cluster</b>\n",
    "\n",
    "<em>loaded JupyterLab</em> : Version 2.2.9"
   ]
  },
  {
   "cell_type": "code",
   "execution_count": 1,
   "metadata": {},
   "outputs": [
    {
     "name": "stdout",
     "output_type": "stream",
     "text": [
      "=== Cell launched on Thu May 27 10:53:34 CEST 2021 ===\n",
      "=== Current IFB session size: Medium (4CPU, 10GB) or Large (10CPU, 50GB) ===\n",
      "       JobID  AllocCPUS        NodeList \n",
      "------------ ---------- --------------- \n",
      "16935772             10     cpu-node-41 \n",
      "16935772.ba+         10     cpu-node-41 \n",
      "16935772.0           10     cpu-node-41 \n",
      "=== Working's root folder is ===\n",
      "/shared/projects/gonseq/Building/\n",
      "\n",
      "=== current folder tree ===\n",
      "d [error opening dir]\n",
      "/shared/projects/gonseq/Building/\n",
      "├── Data\n",
      "│   ├── fastq\n",
      "│   ├── info\n",
      "│   ├── sra\n",
      "│   ├── sra-files_creation_fastqgz.log\n",
      "│   ├── sra-files_integrity.log\n",
      "│   └── sra-files_retrieval.log\n",
      "├── Pipeline\n",
      "│   ├── Pipe_1-bash_download-files.ipynb\n",
      "│   ├── Pipe_2-bash_raw-data-quality.ipynb\n",
      "│   ├── Pipe_3-bash_preprocessing-and-verify.ipynb\n",
      "│   ├── Pipe_4-bash_classical-reads-mapping.ipynb\n",
      "│   └── Pipe_5-bash_mapping-quality.ipynb\n",
      "├── Reference\n",
      "│   ├── extracted\n",
      "│   ├── gencode.v37.primary_assembly.annotation.gtf.gz\n",
      "│   ├── GRCh38.primary_assembly.genome.fa.gz\n",
      "│   ├── indexes_upto49bases\n",
      "│   ├── star_indexing_genome.log\n",
      "│   └── wget_reference_files_downloads.log\n",
      "└── Results\n",
      "    ├── fastp\n",
      "    ├── fastqc\n",
      "    ├── logfiles\n",
      "    ├── multiqc\n",
      "    └── star\n",
      "\n",
      "14 directories, 12 files\n",
      "=== current working directory ===\n",
      "/shared/ifbstor1/projects/gonseq/Building/Pipeline\n"
     ]
    }
   ],
   "source": [
    "echo \"=== Cell launched on $(date) ===\"\n",
    "\n",
    "echo \"=== Current IFB session size: Medium (4CPU, 10GB) or Large (10CPU, 50GB) ===\"\n",
    "jobid=$(squeue -hu $USER | awk '/jupyter/ {print $1}')\n",
    "sacct --format=JobID,AllocCPUS,NODELIST -j ${jobid}\n",
    "\n",
    "echo \"=== Working's root folder is ===\"\n",
    "gohome=\"/shared/projects/gonseq/Building/\" # to adjust with your project's folder\n",
    "echo \"${gohome}\"\n",
    "echo \"\"\n",
    "\n",
    "echo \"=== current folder tree ===\"\n",
    "tree d -L 2 \"${gohome}\"\n",
    "echo \"=== current working directory ===\"\n",
    "echo \"${PWD}\""
   ]
  },
  {
   "cell_type": "code",
   "execution_count": 3,
   "metadata": {},
   "outputs": [
    {
     "name": "stdout",
     "output_type": "stream",
     "text": [
      "===== quality control =====\n",
      "samtools 1.10\n",
      "Using htslib 1.10.2\n",
      "===== graphical quality control 2 =====\n",
      "Java memory size is set to 1200M\n",
      "Launching application...\n",
      "\n",
      "QualiMap v.2.2.2-dev\n",
      "===== quality reports compilation =====\n",
      "multiqc, version 1.9\n"
     ]
    }
   ],
   "source": [
    "module load samtools qualimap multiqc\n",
    "\n",
    "echo \"===== quality control & bam sorting =====\"  # I changed it after I used it\n",
    "samtools --version | head -n 2\n",
    "echo \"===== graphical quality controls =====\"  # I changed it after I used it\n",
    "qualimap --help | head -n 4\n",
    "echo \"===== quality reports compilation =====\"\n",
    "multiqc --version"
   ]
  },
  {
   "cell_type": "markdown",
   "metadata": {},
   "source": [
    "---\n",
    "## <b>I- Some checks as a precaution or Samtools checks</b>"
   ]
  },
  {
   "cell_type": "markdown",
   "metadata": {},
   "source": [
    "### **1- Available files**"
   ]
  },
  {
   "cell_type": "markdown",
   "metadata": {},
   "source": [
    "As we change session or even day, let's first check all files are there:"
   ]
  },
  {
   "cell_type": "code",
   "execution_count": 4,
   "metadata": {},
   "outputs": [
    {
     "name": "stdout",
     "output_type": "stream",
     "text": [
      "There are 16 bam files:\n",
      "/shared/projects/gonseq/Building/Results/star/SRR7430706_Aligned.sortedByCoord.out.bam\n",
      "/shared/projects/gonseq/Building/Results/star/SRR7430707_Aligned.sortedByCoord.out.bam\n",
      "/shared/projects/gonseq/Building/Results/star/SRR7430708_Aligned.sortedByCoord.out.bam\n",
      "/shared/projects/gonseq/Building/Results/star/SRR7430709_Aligned.sortedByCoord.out.bam\n",
      "/shared/projects/gonseq/Building/Results/star/SRR7430710_Aligned.sortedByCoord.out.bam\n",
      "/shared/projects/gonseq/Building/Results/star/SRR7430711_Aligned.sortedByCoord.out.bam\n",
      "/shared/projects/gonseq/Building/Results/star/SRR7430712_Aligned.sortedByCoord.out.bam\n",
      "/shared/projects/gonseq/Building/Results/star/SRR7430713_Aligned.sortedByCoord.out.bam\n",
      "/shared/projects/gonseq/Building/Results/star/SRR7430738_Aligned.sortedByCoord.out.bam\n",
      "/shared/projects/gonseq/Building/Results/star/SRR7430739_Aligned.sortedByCoord.out.bam\n",
      "/shared/projects/gonseq/Building/Results/star/SRR7430740_Aligned.sortedByCoord.out.bam\n",
      "/shared/projects/gonseq/Building/Results/star/SRR7430741_Aligned.sortedByCoord.out.bam\n",
      "/shared/projects/gonseq/Building/Results/star/SRR7430742_Aligned.sortedByCoord.out.bam\n",
      "/shared/projects/gonseq/Building/Results/star/SRR7430743_Aligned.sortedByCoord.out.bam\n",
      "/shared/projects/gonseq/Building/Results/star/SRR7430744_Aligned.sortedByCoord.out.bam\n",
      "/shared/projects/gonseq/Building/Results/star/SRR7430745_Aligned.sortedByCoord.out.bam\n"
     ]
    }
   ],
   "source": [
    "mappedfolder=\"${gohome}Results/star/\"\n",
    "\n",
    "echo \"There are $(ls \"${mappedfolder}\"*_Aligned.sortedByCoord.out.bam | wc -l) bam files:\"\n",
    "ls \"${mappedfolder}\"*_Aligned.sortedByCoord.out.bam"
   ]
  },
  {
   "cell_type": "markdown",
   "metadata": {},
   "source": [
    "### **2- Examining data files: are they what we expect?**"
   ]
  },
  {
   "cell_type": "markdown",
   "metadata": {},
   "source": [
    "These files are smaller that ``.sam`` files as they are binary ones... but we can't see inside without a specific tool (``samtools view``) included in ``samtools``suite."
   ]
  },
  {
   "cell_type": "code",
   "execution_count": 5,
   "metadata": {},
   "outputs": [
    {
     "name": "stdout",
     "output_type": "stream",
     "text": [
      "samtools 1.10\n",
      "Using htslib 1.10.2\n"
     ]
    }
   ],
   "source": [
    "samtools --version | head -n 2"
   ]
  },
  {
   "cell_type": "markdown",
   "metadata": {},
   "source": [
    "We list the files in the folder and ask for only the first line (``-n 1``) to get one sample:"
   ]
  },
  {
   "cell_type": "code",
   "execution_count": 8,
   "metadata": {},
   "outputs": [
    {
     "name": "stdout",
     "output_type": "stream",
     "text": [
      "/shared/projects/gonseq/Building/Results/star/SRR7430706_Aligned.sortedByCoord.out.bam\n"
     ]
    }
   ],
   "source": [
    "abamfile=$(ls \"${mappedfolder}\"*_Aligned.sortedByCoord.out.bam | head -n 1)\n",
    "echo ${abamfile}"
   ]
  },
  {
   "cell_type": "code",
   "execution_count": 10,
   "metadata": {},
   "outputs": [
    {
     "name": "stdout",
     "output_type": "stream",
     "text": [
      "SRR7430706.14788812\t163\tchr1\t10373\t255\t50M\t=\t10391\t68\tCCTAACCCTAACCCTAACCCCTAACCCCTAACCCTAACCCTAACCCTAAC\tC@CFFFFFHGHHHIJJIJIJJJJJJIJJIJIJIIIDDGGIGIIJHJJJJI\tNH:i:1\tHI:i:1\tAS:i:98\tnM:i:0\tNM:i:0\tMD:Z:50\tjM:B:c,-1\tjI:B:i,-1\tMC:Z:50M\n",
      "SRR7430706.14788812\t83\tchr1\t10391\t255\t50M\t=\t10373\t-68\tCCCTAACCCCTAACCCTAACCCTAACCCTAACCCTAACCCTAACCCTAAC\tGHFCA@IIGHHGBIIHAFCIIHIHGIGG@IGIIHGGCGHHFFAFFFF@@@\tNH:i:1\tHI:i:1\tAS:i:98\tnM:i:0\tNM:i:0\tMD:Z:50\tjM:B:c,-1\tjI:B:i,-1\tMC:Z:50M\n",
      "SRR7430706.21145144\t355\tchr1\t11458\t1\t1S49M\t=\t11575\t167\tGTGGCGGATTATAGGGAAACAACCGGAGCATATGCTGTTTGGTCTCAGTA\tCCCFFFFFGHHHHJJJJIIJJJJJJJJJJJJJJJJJJHIJJJEIJJHHHG\tNH:i:3\tHI:i:1\tAS:i:95\tnM:i:1\tNM:i:1\tMD:Z:20C28\tjM:B:c,-1\tjI:B:i,-1\tMC:Z:50M\n",
      "SRR7430706.21145144\t403\tchr1\t11575\t1\t50M\t=\t11458\t-167\tCCATCAGAATTGTACTGTTCTGTATCCCACCAGCAATGTCTAGGAATGCC\tJJJJJJJJIIJJIIJIIGHJJJJJIJIHFJJJJJJJJHHHHHFFFFFCCC\tNH:i:3\tHI:i:1\tAS:i:95\tnM:i:1\tNM:i:0\tMD:Z:50\tjM:B:c,-1\tjI:B:i,-1\tMC:Z:1S49M\n",
      "SRR7430706.23107087\t419\tchr1\t11633\t0\t50M\t=\t11657\t74\tCACAAAGTGTTTACTTTTGGATTTTTGCCAGTCTAACAGGTGAAGCCCTG\t@C@FFFFDFDFHHIJIJGIIGIIJJJJIIIIHJJIJJJIJCGGGJJJJJJ\tNH:i:5\tHI:i:4\tAS:i:98\tnM:i:0\tNM:i:0\tMD:Z:50\tjM:B:c,-1\tjI:B:i,-1\tMC:Z:50M\n",
      "SRR7430706.34213415\t419\tchr1\t11633\t0\t50M\t=\t11657\t74\tCACAAAGTGTTTACTTTTGGATTTTTGCCAGTCTAACAGGTGAAGCCCTG\tCCCFFFFDFFHHHJJJJJJJFHIJJJJJJJJIJJJJJJJIHIJJJIJJIJ\tNH:i:5\tHI:i:4\tAS:i:98\tnM:i:0\tNM:i:0\tMD:Z:50\tjM:B:c,-1\tjI:B:i,-1\tMC:Z:50M\n",
      "SRR7430706.23107087\t339\tchr1\t11657\t0\t50M\t=\t11633\t-74\tTTGCCAGTCTAACAGGTGAAGCCCTGGAGATTCTTATTAGTGATTTGGGC\tIJJIJJIJJJIHJJJIJJIIJJJJJJJIJIJIGIIIIFHFGHFFFFD@C@\tNH:i:5\tHI:i:4\tAS:i:98\tnM:i:0\tNM:i:0\tMD:Z:50\tjM:B:c,-1\tjI:B:i,-1\tMC:Z:50M\n",
      "SRR7430706.34213415\t339\tchr1\t11657\t0\t50M\t=\t11633\t-74\tTTGCCAGTCTAACAGGTGAAGCCCTGGAGATTCTTATTAGTGATTTGGGC\tIJJJJJJJIJJIJJJJIJJJJJJJJJJJJJJJJJJJJHHHHHFFFFFCCC\tNH:i:5\tHI:i:4\tAS:i:98\tnM:i:0\tNM:i:0\tMD:Z:50\tjM:B:c,-1\tjI:B:i,-1\tMC:Z:50M\n",
      "SRR7430706.37707069\t355\tchr1\t11670\t0\t50M\t=\t11738\t118\tAGGTAAAGCCCTGGAGATTCTTATTAGTGATTTGGGCTGGGGCCTGGCCA\t;B@DDFFFHGHGHJHGGGIJJJIJJJJIHHIJJIJJJIIJJJIJJJJJJJ\tNH:i:7\tHI:i:6\tAS:i:94\tnM:i:2\tNM:i:1\tMD:Z:4G45\tjM:B:c,-1\tjI:B:i,-1\tMC:Z:50M\n",
      "SRR7430706.6018511\t355\tchr1\t11707\t1\t50M\t=\t11744\t87\tTGGGGCCTGGCCATGTGTATTTTTTTAAATTTCCACTGATGATTTTGCTG\t@@@DFFFFGFHHFIGFGCDHHJJIJJJIGIIIIJJJJJJJCGGIJGHJJJ\tNH:i:4\tHI:i:3\tAS:i:98\tnM:i:0\tNM:i:0\tMD:Z:50\tjM:B:c,-1\tjI:B:i,-1\tMC:Z:50M\n",
      "samtools view: writing to standard output failed: Broken pipe\n",
      "samtools view: error closing standard output: -1\n"
     ]
    }
   ],
   "source": [
    "samtools view ${abamfile} | head"
   ]
  },
  {
   "cell_type": "markdown",
   "metadata": {},
   "source": [
    "<ul class=\"alert alert-block alert-info\">\n",
    "    <li>\n",
    "        For more information on BAM file format, see <a href=\"https://biocorecrg.github.io/RNAseq_course_2019/alnpractical.html\"><i>BAM/SAM/CRAM format</i></a> section of another training course made by Barcelona's CRG Biocore Facility members on 2019.\n",
    "    </li>\n",
    "    <li>\n",
    "        To understand, or at least know what is inside alignment quality scores, the Broad Institute's tool <a href=\"https://broadinstitute.github.io/picard/explain-flags.html\">Explain SAM Flags</a> may be helpfull!\n",
    "    </li>\n",
    "    <li>\n",
    "        To convert flags between numeric and textual representation, you may also use <code>samtools flags</code>, see <a href=\"http://www.htslib.org/doc/samtools.html\">online manual</a>.\n",
    "    </li>\n",
    "</ul>"
   ]
  },
  {
   "cell_type": "markdown",
   "metadata": {},
   "source": [
    "### **3- Checking `.bam` file's integrity**"
   ]
  },
  {
   "cell_type": "markdown",
   "metadata": {},
   "source": [
    "You may join us (this pipeline :-D) with your own `.bam` files, either generated from another alignment tool or directly downloaded from network.  \n",
    "Alternatively, you may have issues (at least I had some several times) with `STAR` and some of your files may be corrupted.  \n",
    "\n",
    "So, to start (again) off on the right foot, let's check that files are correct. To that purpose, `samtools` will once again help us to deal with `.bam` files."
   ]
  },
  {
   "cell_type": "code",
   "execution_count": 18,
   "metadata": {},
   "outputs": [
    {
     "name": "stdout",
     "output_type": "stream",
     "text": [
      "Screen output is redirected to /shared/projects/gonseq/Building/Results/star/samtools_quickcheck_bamfiles.log\n",
      "All files are goods.\n"
     ]
    }
   ],
   "source": [
    "logfile=\"${mappedfolder}samtools_quickcheck_bamfiles.log\"\n",
    "echo \"Screen output is redirected to ${logfile}\"\n",
    "\n",
    "# as time command does not redirect output\n",
    "echo \"operation starts at $(date)\" >> ${logfile}\n",
    "\n",
    "samtools quickcheck -vvv \"${gohome}Results/star/\"*_Aligned.sortedByCoord.out.bam \\\n",
    "            &>> ${logfile}\n",
    "echo \"operation ends at $(date)\" >> ${logfile}            \n",
    "\n",
    "# to print user's message (samtools quickcheck is really quick!) and record it\n",
    "samtools quickcheck \"${gohome}Results/star/\"*_Aligned.sortedByCoord.out.bam \\\n",
    "            && inbrief=\"All files are goods.\" \\\n",
    "            || inbrief=\"At least one file is corrupted, see logfile.\"\n",
    "echo ${inbrief} | tee -a ${logfile}"
   ]
  },
  {
   "cell_type": "markdown",
   "metadata": {},
   "source": [
    "<div class=\"alert alert-block alert-warning\">\n",
    "    <b>If there is an issue with your files</b>, you should start again previous steps for corrupted file(s). Indeed, some downstream tools may work but <code>samtools</code> will fail. Besides, you wouldn't be confident with generated results: <b>save time, take some before losing later!</b>\n",
    "</div>"
   ]
  },
  {
   "cell_type": "markdown",
   "metadata": {},
   "source": [
    "## <b>II- Some metrics with <code>samtools</code></b>"
   ]
  },
  {
   "cell_type": "markdown",
   "metadata": {},
   "source": [
    "The commands used for this part belong to a large package of utilities that are very useful to manage those types of files: Samtools (http://www.htslib.org/)."
   ]
  },
  {
   "cell_type": "markdown",
   "metadata": {},
   "source": [
    "### **1- Preparing command line variables**\n",
    "\n",
    "An option would be to save results files along with `.bam` files but it's not the best idea to have a lot of files in one folder (especially when saving them, along with long list handling). So we will save the output files to another folder."
   ]
  },
  {
   "cell_type": "code",
   "execution_count": 19,
   "metadata": {},
   "outputs": [],
   "source": [
    "samtoolsfolder=\"${gohome}Results/samtools/\"\n",
    "mkdir -p ${samtoolsfolder}"
   ]
  },
  {
   "cell_type": "markdown",
   "metadata": {},
   "source": [
    "Count files are *per se* the interesting outputs but, if there is any issue will or for duration information, we nonetheless keep some details into a `.log` file saved with the others reports."
   ]
  },
  {
   "cell_type": "code",
   "execution_count": 20,
   "metadata": {},
   "outputs": [],
   "source": [
    "logfolder=\"${gohome}Results/logfiles/\""
   ]
  },
  {
   "cell_type": "markdown",
   "metadata": {},
   "source": [
    "### **2- Running command line**"
   ]
  },
  {
   "cell_type": "markdown",
   "metadata": {},
   "source": [
    "<div class=\"alert alert-block alert-danger\">\n",
    "    In below loop, we select files which names end with <code>_sortedByCoord.out.bam</code> pattern. <br>\n",
    "    Indeed, <code>STAR</code> produces a second <code>.bam</code> file if you asked for transcripts counts using <i>TranscriptomeSAM</i> quantification mode. This second filename is suffix with <code>_Aligned.toTranscriptome.out.bam</code>: it's not a standardized one as reads are sorted by transcript name instead of chromosome position. <br>\n",
    "    <b>If you do not use previous notebook as initially set, please remove or adapt <code>_sortedByCoord.out</code> in below fifth line in order that filename pattern suits your filename format.</b>\n",
    "</div>"
   ]
  },
  {
   "cell_type": "code",
   "execution_count": 23,
   "metadata": {},
   "outputs": [
    {
     "name": "stdout",
     "output_type": "stream",
     "text": [
      "Screen output is redirected to /shared/projects/gonseq/Building/Results/logfiles/samtools_stats_flagstat_bamfiles.log\n",
      "========Processing sampleID: SRR7430706...\n",
      "... done Thu May 27 11:31:04 CEST 2021 ===\n",
      "========Processing sampleID: SRR7430707...\n",
      "... done Thu May 27 11:33:54 CEST 2021 ===\n",
      "========Processing sampleID: SRR7430708...\n",
      "... done Thu May 27 11:37:21 CEST 2021 ===\n",
      "========Processing sampleID: SRR7430709...\n",
      "... done Thu May 27 11:40:23 CEST 2021 ===\n",
      "========Processing sampleID: SRR7430710...\n",
      "... done Thu May 27 11:44:00 CEST 2021 ===\n",
      "========Processing sampleID: SRR7430711...\n",
      "... done Thu May 27 11:46:56 CEST 2021 ===\n",
      "========Processing sampleID: SRR7430712...\n",
      "... done Thu May 27 11:49:36 CEST 2021 ===\n",
      "========Processing sampleID: SRR7430713...\n",
      "... done Thu May 27 11:53:07 CEST 2021 ===\n",
      "========Processing sampleID: SRR7430738...\n",
      "... done Thu May 27 11:57:42 CEST 2021 ===\n",
      "========Processing sampleID: SRR7430739...\n",
      "... done Thu May 27 12:01:39 CEST 2021 ===\n",
      "========Processing sampleID: SRR7430740...\n",
      "... done Thu May 27 12:05:28 CEST 2021 ===\n",
      "========Processing sampleID: SRR7430741...\n",
      "... done Thu May 27 12:08:24 CEST 2021 ===\n",
      "========Processing sampleID: SRR7430742...\n",
      "... done Thu May 27 12:12:17 CEST 2021 ===\n",
      "========Processing sampleID: SRR7430743...\n",
      "... done Thu May 27 12:15:37 CEST 2021 ===\n",
      "========Processing sampleID: SRR7430744...\n",
      "... done Thu May 27 12:18:48 CEST 2021 ===\n",
      "========Processing sampleID: SRR7430745...\n",
      "... done Thu May 27 12:26:50 CEST 2021 ===\n",
      "\n",
      "real\t59m1.340s\n",
      "user\t57m56.333s\n",
      "sys\t1m1.932s\n",
      "There are 32 output files.\n"
     ]
    }
   ],
   "source": [
    "logfile=\"${logfolder}samtools_stats_flagstat_bamfiles.log\"\n",
    "echo \"Screen output is redirected to ${logfile}\"\n",
    "\n",
    "# as time command does not redirect output\n",
    "echo \"operation starts at $(date)\" >> ${logfile}\n",
    "\n",
    "time for fn in $(ls \"${mappedfolder}\"*_Aligned.sortedByCoord.out.bam); do\n",
    "\n",
    "    mysortedbam=$(basename ${fn})\n",
    "    id=${mysortedbam/_Aligned.sortedByCoord.out.bam/}\n",
    "    echo \"========Processing sampleID: ${id}...\" | tee -a ${logfile}\n",
    "\n",
    "    statsfile=\"${samtoolsfolder}${id}.stats\"\n",
    "    echo \"$(date) starting ${statsfile}\" >> ${logfile}\n",
    "    samtools stats ${fn} > ${statsfile}\n",
    "\n",
    "    flagsfile=\"${samtoolsfolder}${id}.flagstat\"\n",
    "    echo \"$(date) starting ${flagsfile}\" >> ${logfile}\n",
    "    samtools flagstat ${fn} > ${flagsfile}\n",
    "    \n",
    "    echo \"... done\" | tee -a ${logfile}  # caracter string changed after I run it\n",
    "\n",
    "done\n",
    "\n",
    "echo \"operation ends at $(date)\" >> ${logfile}\n",
    "\n",
    "echo \"=== files created after samtools counts ===\" >> ${logfile}\n",
    "ls -lh \"${samtoolsfolder}\" >> ${logfile}\n",
    "\n",
    "echo \"There are $(ls \"${samtoolsfolder}\" | wc -l) output files.\""
   ]
  },
  {
   "cell_type": "markdown",
   "metadata": {},
   "source": [
    "## <b>III- Some metrics and graphical results with Qualimap</b>"
   ]
  },
  {
   "cell_type": "markdown",
   "metadata": {},
   "source": [
    "### **1- Tool introduction and preparation step**"
   ]
  },
  {
   "cell_type": "markdown",
   "metadata": {},
   "source": [
    "We'll run the QUALIMAP program (http://qualimap.conesalab.org/), that collects the data about the `.bam file`, including coverage estimation and many other parameters, and reports a summary of the main properties of the alignment data. QUalimap reads `.sorted.bam` files and generates a folder containing a report on `.html` format.\n",
    "\n",
    "As you can see from the next command to know which version we are running, Qualimap includes several tools. We will be using the classical bamqc tool which can work on any kind of NGS .bam files. Of note, there is also a rnaqc tool which is dedicated to RNASeq data but it fails to run with C. Parapsilosis annotations."
   ]
  },
  {
   "cell_type": "code",
   "execution_count": 24,
   "metadata": {},
   "outputs": [
    {
     "name": "stdout",
     "output_type": "stream",
     "text": [
      "Java memory size is set to 1200M\n",
      "Launching application...\n",
      "\n",
      "QualiMap v.2.2.2-dev\n",
      "Built on 2017-08-28 08:37\n",
      "\n",
      "usage: qualimap <tool> [options]\n",
      "\n",
      "To launch GUI leave <tool> empty.\n",
      "\n",
      "Available tools:\n",
      "\n",
      "    bamqc            Evaluate NGS mapping to a reference genome\n",
      "    rnaseq           Evaluate RNA-seq alignment data\n",
      "    counts           Counts data analysis (further RNA-seq data evaluation)\n",
      "    multi-bamqc      Compare QC reports from multiple NGS mappings\n",
      "    clustering       Cluster epigenomic signals\n",
      "    comp-counts      Compute feature counts\n",
      "\n",
      "Special arguments: \n",
      "\n",
      "    --java-mem-size  Use this argument to set Java memory heap size. Example:\n",
      "                     qualimap bamqc -bam very_large_alignment.bam --java-mem-size=4G\n",
      "\n"
     ]
    }
   ],
   "source": [
    "qualimap --help"
   ]
  },
  {
   "cell_type": "markdown",
   "metadata": {},
   "source": [
    "> Remark: QUALIMAP can also be launched on most OS using a command line that will open a user-friendly Java window. On Mac or Windows, you may have to modify the memory RAMs to run it. It is all explained in the documentation."
   ]
  },
  {
   "cell_type": "markdown",
   "metadata": {},
   "source": [
    "As previous tools, we will put its results in a `Results/` subfolder:"
   ]
  },
  {
   "cell_type": "code",
   "execution_count": 25,
   "metadata": {},
   "outputs": [],
   "source": [
    "qualimapfolder=\"${gohome}Results/qualimap/\"\n",
    "mkdir -p ${qualimapfolder}"
   ]
  },
  {
   "cell_type": "markdown",
   "metadata": {},
   "source": [
    "An issue with current Qualimap releases is that we can't change file names for both tools we will use.  \n",
    "Thus, let's create distinct folders for the two tools."
   ]
  },
  {
   "cell_type": "code",
   "execution_count": 26,
   "metadata": {},
   "outputs": [],
   "source": [
    "bamqcfolder=\"${qualimapfolder}bamqc/\"\n",
    "mkdir -p ${bamqcfolder}"
   ]
  },
  {
   "cell_type": "code",
   "execution_count": 27,
   "metadata": {},
   "outputs": [],
   "source": [
    "rnaseqfolder=\"${qualimapfolder}rnaseq/\"\n",
    "mkdir -p ${rnaseqfolder}"
   ]
  },
  {
   "cell_type": "markdown",
   "metadata": {},
   "source": [
    "### **2- General view with <code>qualimap bamqc</code>**"
   ]
  },
  {
   "cell_type": "markdown",
   "metadata": {},
   "source": [
    "The <code>qualimap</code> options we will use are: <br>\n",
    "<blockquote>\n",
    "    <code>-bam filepath</code>, Input mapping file in BAM format sorted by coordinates <br>\n",
    "    <code>-gff filepath</code> or <code>--feature-file path/to/file</code>, where to find feature file with regions of interest in GFF/GTF or BED format <br>\n",
    "    <code>-outdir text</code>, Output folder for HTML report and raw data. <br>\n",
    "    <code>-p VALUE</code> or <code>--sequencing-protocol VALUE</code>, Sequencing library protocol: strand-specific-forward, strand-specific-reverse or non-strand-specific (default). <br>\n",
    "    <code>-c</code> or <code>--paint-chromosome-limits</code>, Paint chromosome limits inside charts\n",
    "</blockquote>"
   ]
  },
  {
   "cell_type": "markdown",
   "metadata": {},
   "source": [
    "Qualimap gives by default an HTML report but we may ask for a PDF or both using <code>-outformat</code> option and corresponding predefined values (PDF, HTML or PDF:HTML for both)."
   ]
  },
  {
   "cell_type": "markdown",
   "metadata": {},
   "source": [
    "<ul class=\"alert alert-block alert-info\">\n",
    "    <li>\n",
    "        See <a href=\"http://qualimap.conesalab.org/doc_html/analysis.html#bam-qc\">online manual</a> for more details\n",
    "    </li>\n",
    "</ul>"
   ]
  },
  {
   "cell_type": "markdown",
   "metadata": {},
   "source": [
    "<div class=\"alert alert-block alert-danger\">\n",
    "    Following <b>command is prepared for usage on a computational cluster</b> and was developped on the <i>Institut Français de Bioinformatique</i> (IFB)'s core cluster. We use a <i>Large</i> session defined as <b>10 CPU with 50 GB available for RAM</b>. \n",
    "</div>"
   ]
  },
  {
   "cell_type": "code",
   "execution_count": null,
   "metadata": {},
   "outputs": [
    {
     "name": "stdout",
     "output_type": "stream",
     "text": [
      "Screen output is redirected to /shared/projects/gonseq/Building/Results/logfiles/qualimap_bamqc_all_samples.log\n",
      "===== Processing sampleID: SRR7430706...\n",
      "... done\n",
      "===== Processing sampleID: SRR7430707...\n",
      "... done\n",
      "===== Processing sampleID: SRR7430708...\n",
      "... done\n",
      "===== Processing sampleID: SRR7430709...\n",
      "... done\n",
      "===== Processing sampleID: SRR7430710...\n",
      "... done\n",
      "===== Processing sampleID: SRR7430711...\n",
      "... done\n",
      "===== Processing sampleID: SRR7430712...\n",
      "... done\n",
      "===== Processing sampleID: SRR7430713...\n",
      "... done\n",
      "===== Processing sampleID: SRR7430738...\n",
      "... done\n",
      "===== Processing sampleID: SRR7430739...\n",
      "... done\n",
      "===== Processing sampleID: SRR7430740...\n",
      "... done\n",
      "===== Processing sampleID: SRR7430741...\n",
      "... done\n",
      "===== Processing sampleID: SRR7430742...\n"
     ]
    }
   ],
   "source": [
    "logfile=\"${logfolder}qualimap_bamqc_all_samples.log\"\n",
    "echo \"Screen output is redirected to ${logfile}\"\n",
    "\n",
    "# as time command does not redirect output\n",
    "echo \"operation starts at $(date)\" >> ${logfile}\n",
    "\n",
    "for fn in $(ls \"${mappedfolder}\"*_Aligned.sortedByCoord.out.bam); do   \n",
    "    \n",
    "    mysortedbam=$(basename ${fn})\n",
    "    id=${mysortedbam/_Aligned.sortedByCoord.out.bam/}\n",
    "    echo \"===== Processing sampleID: ${id}...\" | tee -a ${logfile}\n",
    "\n",
    "    myoutdir=\"${bamqcfolder}${id}\"\n",
    "    echo \"destination folder is ${myoutdir}\" >> ${logfile}\n",
    "    \n",
    "    echo \"qualimap bamqc starts at $(date)\" >> ${logfile}\n",
    "    qualimap bamqc -bam ${fn} \\\n",
    "                    --feature-file \"${gohome}Reference/extracted/genome_annotation.gtf\" \\\n",
    "                    --sequencing-protocol strand-specific-reverse \\\n",
    "                    --paint-chromosome-limits \\\n",
    "                    -outdir ${myoutdir} \\\n",
    "                    --java-mem-size=20G \\\n",
    "                    &>> ${logfile}\n",
    "    echo \"qualimap bamqc ends at $(date)\" >> ${logfile}\n",
    "    \n",
    "    echo \"... done\" | tee -a ${logfile}\n",
    "  \n",
    "done \n",
    "\n",
    "echo \"operation ends at $(date)\" >> ${logfile}\n",
    "\n",
    "echo \"=== Files created after qualimap bamqc ===\" >> ${logfile}\n",
    "tree \"${bamqcfolder}\" >> ${logfile}\n",
    "echo \"Qualimap generated $(find \"${bamqcfolder}\" -name *.html | wc -l) html reports.\""
   ]
  },
  {
   "cell_type": "markdown",
   "metadata": {},
   "source": [
    "### **3- Specific RNAseq plots with <code>qualimap rnaseq</code>**"
   ]
  },
  {
   "cell_type": "markdown",
   "metadata": {},
   "source": [
    "``qualimap rnaseq``, a Qualimap specific option for RNAseq data, gives some more metrics: \n",
    "- a *Reads genomic origin* circus-plot to check that reads map to exons\n",
    "- two *Coverage Profile Along Genes* plots (low and high)\n",
    "- a *Junction Analysis* circus-plot to distinguish between known and novel junctions"
   ]
  },
  {
   "cell_type": "markdown",
   "metadata": {},
   "source": [
    "<ul class=\"alert alert-block alert-info\">\n",
    "    <li>\n",
    "        See <a href=\"http://qualimap.conesalab.org/doc_html/analysis.html#rna-seq-qc\">online manual for this tool</a> for more details\n",
    "    </li>\n",
    "</ul>"
   ]
  },
  {
   "cell_type": "markdown",
   "metadata": {},
   "source": [
    "#### **3.a- Understanding operations**"
   ]
  },
  {
   "cell_type": "markdown",
   "metadata": {},
   "source": [
    "With paired end data, we could use following lines:  \n",
    "<code>qualimap rnaseq -pe \\  \n",
    "               -bam path/to/sortedByNames.bam \\ \n",
    "               -gtf path/to/gencode_annotation.gtf \\ \n",
    "               -outdir path/to/outputfolder/</code>"
   ]
  },
  {
   "cell_type": "markdown",
   "metadata": {},
   "source": [
    "Those options, along with others, are explained in manual:\n",
    "<blockquote>\n",
    "     <code>-pe</code> or <code>--paired</code> Setting this flag for paired-end experiments will result in counting fragments instead of reads <br>\n",
    "     <code>-bam path/to/file.bam</code>, to locate input mapping file in BAM format. <br>\n",
    "     <code>-gtf path/to/file.gtf</code>, where to find annotations file in Ensembl GTF format (no compressed format). <br>\n",
    "     <code>-outdir path/to/folder/</code> to define output folder for HTML report and raw data. <br> \n",
    "</blockquote>\n",
    "\n",
    "There are some more options of interest an we will use the first two while letting the third one by default:\n",
    "<blockquote>\n",
    "     <code>-p VALUE</code> or <code>--sequencing-protocol VALUE</code>, to precise sequencing library protocol. VALUES among: strand-specific-forward, strand-specific-reverse or non-strand-specific (default) <br>\n",
    "     <code>-oc path/to/outfile.counts</code>, to place output file for computed counts in a distinct folder. If only name of the file is provided, then the file will be saved in the output folder. <br>\n",
    "     <code>-a</code> or <code>--algorithm</code>, to set counting algorithm: uniquely-mapped-reads(default) or proportional.\n",
    "</blockquote>"
   ]
  },
  {
   "cell_type": "markdown",
   "metadata": {},
   "source": [
    "Contrary to `bamqc`, `rnaseq` Qualimap tool needs alignment files to be sorted by read names. By default, if given otherwise, it will sort `.bam` file... but we already noticed that handling those big files is quite slow with only one process running at a time.  \n",
    "So we will use `samtools sort` tool to perform it with multiple threads at a time and give `qualimap rnaseq` an already sorted input file and let it know with <code>-s</code> or <code>--sorted</code> (Only required for paired-end analysis...)."
   ]
  },
  {
   "cell_type": "markdown",
   "metadata": {},
   "source": [
    "In order to follow process, we will use this comman format:  \n",
    "<code>samtools sort -n \\ \n",
    "            -@ X -m YG \\ \n",
    "            -O BAM \\ \n",
    "            -o path/to/sortedByNames.bam \\ \n",
    "            -T path/to/temporaryfolder/ \\ \n",
    "            path/to/input.bam</code>"
   ]
  },
  {
   "cell_type": "markdown",
   "metadata": {},
   "source": [
    "where options correspond to:  \n",
    "<blockquote>\n",
    "    <code>-n</code> for activating sorting by read name (<i>i.e.</i> the QNAME field) <br>\n",
    "    <code>-o FILE</code>    Write final output to FILE rather than standard output <br>\n",
    "    <code>-T PREFIX</code>, to write temporary files to a particular folder. Used names are <i>PREFIX.nnnn.bam</i>, where <i>nnnn</i> stands for a 4-digit number <br>\n",
    "    <code>-O</code> or <code>--output-fmt FORMAT</code> to specify output format (SAM, BAM or CRAM). If not mentionned, <code>samtools</code> will deduce it from file extension (not available if there is no written output file!) <br>\n",
    "    <code>-@ INT</code> or <code>--threads INT</code>, the number of additional threads to use [0]. Indeed, you will  only use 1 thread by default. <br>\n",
    "    <code>-m INT</code>, to limit maximum memory per thread; suffix K/M/G recognized [768M]\n",
    "</blockquote>"
   ]
  },
  {
   "cell_type": "markdown",
   "metadata": {},
   "source": [
    "#### **3.b- Starting another IFB session**"
   ]
  },
  {
   "cell_type": "code",
   "execution_count": 4,
   "metadata": {},
   "outputs": [
    {
     "name": "stdout",
     "output_type": "stream",
     "text": [
      "=== Cell launched on Thu May 27 19:23:19 CEST 2021 ===\n",
      "=== Current IFB session size: Medium (4CPU, 10GB) or Large (10CPU, 50GB) ===\n",
      "       JobID  AllocCPUS        NodeList \n",
      "------------ ---------- --------------- \n",
      "16937696             10     cpu-node-24 \n",
      "16937696.ba+         10     cpu-node-24 \n",
      "16937696.0           10     cpu-node-24 \n",
      "=== Working's root folder is ===\n",
      "/shared/projects/gonseq/Building/\n",
      "\n",
      "===== quality control & bam sorting =====\n",
      "samtools 1.10\n",
      "Using htslib 1.10.2\n",
      "===== graphical quality controls =====\n",
      "Java memory size is set to 1200M\n",
      "Launching application...\n",
      "\n",
      "QualiMap v.2.2.2-dev\n",
      "===== quality reports compilation =====\n",
      "multiqc, version 1.9\n"
     ]
    }
   ],
   "source": [
    "echo \"=== Cell launched on $(date) ===\"\n",
    "\n",
    "echo \"=== Current IFB session size: Medium (4CPU, 10GB) or Large (10CPU, 50GB) ===\"\n",
    "jobid=$(squeue -hu $USER | awk '/jupyter/ {print $1}')\n",
    "sacct --format=JobID,AllocCPUS,NODELIST -j ${jobid}\n",
    "\n",
    "echo \"=== Working's root folder is ===\"\n",
    "gohome=\"/shared/projects/gonseq/Building/\" # to adjust with your project's folder\n",
    "echo \"${gohome}\"\n",
    "echo \"\"\n",
    "\n",
    "module load samtools qualimap multiqc\n",
    "\n",
    "echo \"===== quality control & bam sorting =====\"\n",
    "samtools --version | head -n 2\n",
    "echo \"===== graphical quality controls =====\"\n",
    "qualimap --help | head -n 4\n",
    "echo \"===== quality reports compilation =====\"\n",
    "multiqc --version"
   ]
  },
  {
   "cell_type": "markdown",
   "metadata": {},
   "source": [
    "Variables defined in previous session have been forgotten, we need to set them again if we want to use them."
   ]
  },
  {
   "cell_type": "code",
   "execution_count": 5,
   "metadata": {},
   "outputs": [],
   "source": [
    "# required: input folder\n",
    "mappedfolder=\"${gohome}Results/star/\"\n",
    "\n",
    "# required: output folders\n",
    "logfolder=\"${gohome}Results/logfiles/\"\n",
    "qualimapfolder=\"${gohome}Results/qualimap/\"\n",
    "rnaseqfolder=\"${qualimapfolder}rnaseq/\"\n",
    "\n",
    "# optional... in case of...\n",
    "samtoolsfolder=\"${gohome}Results/samtools/\"\n",
    "bamqcfolder=\"${qualimapfolder}bamqc/\""
   ]
  },
  {
   "cell_type": "markdown",
   "metadata": {},
   "source": [
    "#### **3.c- Running loop... with patience**"
   ]
  },
  {
   "cell_type": "markdown",
   "metadata": {},
   "source": [
    "<div class=\"alert alert-block alert-warning\">\n",
    "    Below cell will run for <b>at least 30 minutes per sample</b>. Either you come back later or you may use JupyterLab otion to <i>Run selected cell and all below</i> in <i>Run</i> Menu (top bar).\n",
    "</div>"
   ]
  },
  {
   "cell_type": "markdown",
   "metadata": {},
   "source": [
    "<div class=\"alert alert-block alert-danger\">\n",
    "    Following <b>command is prepared for usage on a computational cluster</b> and was developped on the <i>Institut Français de Bioinformatique</i> (IFB)'s core cluster. We use a <i>Large</i> session defined as <b>10 CPU with 50 GB available for RAM</b>. \n",
    "</div>"
   ]
  },
  {
   "cell_type": "code",
   "execution_count": null,
   "metadata": {},
   "outputs": [
    {
     "name": "stdout",
     "output_type": "stream",
     "text": [
      "Screen output is redirected to /shared/projects/gonseq/Building/Results/logfiles/qualimap_rnaseq_all-samples.log\n",
      "===== Processing sampleID: SRR7430706...\n",
      "... done\n",
      "===== Processing sampleID: SRR7430707...\n",
      "...changing tool...\n",
      "... done\n",
      "===== Processing sampleID: SRR7430709...\n",
      "...changing tool...\n",
      "... done\n",
      "===== Processing sampleID: SRR7430710...\n",
      "...changing tool...\n",
      "... done\n",
      "===== Processing sampleID: SRR7430711...\n",
      "...changing tool...\n",
      "... done\n",
      "===== Processing sampleID: SRR7430712...\n",
      "...changing tool...\n",
      "... done\n",
      "===== Processing sampleID: SRR7430713...\n"
     ]
    }
   ],
   "source": [
    "logfile=\"${logfolder}qualimap_rnaseq_all-samples.log\"\n",
    "echo \"Screen output is redirected to ${logfile}\"\n",
    "\n",
    "# as time command does not redirect output\n",
    "echo \"operation starts at $(date)\" >> ${logfile}\n",
    "\n",
    "for fn in $(ls \"${mappedfolder}\"*_Aligned.sortedByCoord.out.bam); do  \n",
    "    \n",
    "    mysortedbam=$(basename ${fn})\n",
    "    id=${mysortedbam/_Aligned.sortedByCoord.out.bam/}\n",
    "    echo \"===== Processing sampleID: ${id}...\" | tee -a ${logfile}\n",
    "    \n",
    "    # some preparation\n",
    "    mytempfile=\"${rnaseqfolder}${id}_Aligned.sortedByNames.bam\"\n",
    "    myoutdir=\"${rnaseqfolder}${id}\"\n",
    "    echo \"destination folder ${myoutdir}\" >> ${logfile}\n",
    "    \n",
    "    # bam sorting...\n",
    "    echo \"samtools starts at $(date)\" >> ${logfile}\n",
    "    samtools sort -n \\\n",
    "                --threads 8 -m 5G \\\n",
    "                --output-fmt BAM \\\n",
    "                -o ${mytempfile} \\\n",
    "                -T ${rnaseqfolder} \\\n",
    "                ${fn} \\\n",
    "                &>> ${logfile}\n",
    "    echo \"samtools ends at $(date)\" >> ${logfile}\n",
    "\n",
    "    # some user conversation to help being patient\n",
    "    echo \"...changing tool...\" | tee -a ${logfile}\n",
    "\n",
    "    # then RNAseq QC \n",
    "    echo \"qualimap rnaseq starts at $(date)\" >> ${logfile}\n",
    "    qualimap rnaseq -bam ${mytempfile} \\\n",
    "                        --sorted \\\n",
    "                        -gtf \"/${gohome}Reference/extracted/genome_annotation.gtf\" \\\n",
    "                        --sequencing-protocol strand-specific-reverse \\\n",
    "                        --paired \\\n",
    "                        -outdir ${myoutdir} \\\n",
    "                        --java-mem-size=20G \\\n",
    "                        &>> ${logfile}\n",
    "    echo \"qualimap rnaseq ends at $(date)\" >> ${logfile}\n",
    "    \n",
    "    # removing extra bam file... saving disk space\n",
    "    rm ${mytempfile}\n",
    "    \n",
    "    echo \"... done\" | tee -a ${logfile}\n",
    "    \n",
    "done\n",
    "\n",
    "echo \"operation ends at $(date)\" >> ${logfile}\n",
    "\n",
    "echo \"=== Files created after qualimap rnaseq ===\" >> ${logfile}\n",
    "tree \"${rnaseqfolder}\" >> ${logfile}\n",
    "echo \"Qualimap generated $(find \"${rnaseqfolder}\" -name *.html | wc -l) html reports.\" | tee -a ${logfile}"
   ]
  },
  {
   "cell_type": "markdown",
   "metadata": {},
   "source": [
    "<div class=\"alert alert-block alert-danger\">\n",
    "     Equivalent <code>time</code> output for <code>real</code> would be 450min (7h30). <br>\n",
    "    Cell was launched around 7:30pm (19h30) and continued after I logged off my session (10:25pm, 22h25). Thanks to exported outputs (logfile) I know that cell ended at 03:00am (03h00)... Thus, JupyterLab 12h-session was shut down around 07:00am (07h00) without disturbing process. Nonetheless, I didn't activate below cells (I supposed session would end before <code>qualimap rnaseq</code> ends)... I need to start another - 3rd - session for this notebook.\n",
    "</div>"
   ]
  },
  {
   "cell_type": "markdown",
   "metadata": {},
   "source": [
    "## <b>III- Having a summary report with MultiQC</b>"
   ]
  },
  {
   "cell_type": "code",
   "execution_count": 4,
   "metadata": {},
   "outputs": [
    {
     "name": "stdout",
     "output_type": "stream",
     "text": [
      "=== Cell launched on Fri May 28 10:29:36 CEST 2021 ===\n",
      "=== Current IFB session size: Medium (4CPU, 10GB) or Large (10CPU, 50GB) ===\n",
      "       JobID  AllocCPUS        NodeList \n",
      "------------ ---------- --------------- \n",
      "16938958             10     cpu-node-36 \n",
      "16938958.ba+         10     cpu-node-36 \n",
      "16938958.0           10     cpu-node-36 \n",
      "=== Working's root folder is ===\n",
      "/shared/projects/gonseq/Building/\n",
      "\n",
      "===== quality control & bam sorting =====\n",
      "samtools 1.10\n",
      "Using htslib 1.10.2\n",
      "===== graphical quality controls =====\n",
      "Java memory size is set to 1200M\n",
      "Launching application...\n",
      "\n",
      "QualiMap v.2.2.2-dev\n",
      "===== quality reports compilation =====\n",
      "multiqc, version 1.9\n"
     ]
    }
   ],
   "source": [
    "echo \"=== Cell launched on $(date) ===\"\n",
    "\n",
    "echo \"=== Current IFB session size: Medium (4CPU, 10GB) or Large (10CPU, 50GB) ===\"\n",
    "jobid=$(squeue -hu $USER | awk '/jupyter/ {print $1}')\n",
    "sacct --format=JobID,AllocCPUS,NODELIST -j ${jobid}\n",
    "\n",
    "echo \"=== Working's root folder is ===\"\n",
    "gohome=\"/shared/projects/gonseq/Building/\" # to adjust with your project's folder\n",
    "echo \"${gohome}\"\n",
    "echo \"\"\n",
    "\n",
    "module load samtools qualimap multiqc\n",
    "\n",
    "echo \"===== quality control & bam sorting =====\"\n",
    "samtools --version | head -n 2\n",
    "echo \"===== graphical quality controls =====\"\n",
    "qualimap --help | head -n 4\n",
    "echo \"===== quality reports compilation =====\"\n",
    "multiqc --version"
   ]
  },
  {
   "cell_type": "code",
   "execution_count": 5,
   "metadata": {},
   "outputs": [],
   "source": [
    "# required: input folders\n",
    "mappedfolder=\"${gohome}Results/star/\"\n",
    "qualimapfolder=\"${gohome}Results/qualimap/\"\n",
    "samtoolsfolder=\"${gohome}Results/samtools/\"\n",
    "\n",
    "# required: output folders\n",
    "logfolder=\"${gohome}Results/logfiles/\""
   ]
  },
  {
   "cell_type": "markdown",
   "metadata": {},
   "source": [
    "When numerous samples are processed, it can easily become tedious to look in each mapping quality report. So we'll run MultiQC (https://multiqc.info/), that scans automatically a folder for all quality checks outputs and produce a single report. MutliQC runs on almost any possible NGS tools (https://multiqc.info/docs/#multiqc-modules)."
   ]
  },
  {
   "cell_type": "code",
   "execution_count": 6,
   "metadata": {},
   "outputs": [
    {
     "name": "stdout",
     "output_type": "stream",
     "text": [
      "multiqc, version 1.9\n"
     ]
    }
   ],
   "source": [
    "multiqc --version"
   ]
  },
  {
   "cell_type": "markdown",
   "metadata": {},
   "source": [
    "### **1- Personnalize the report: variables**"
   ]
  },
  {
   "cell_type": "markdown",
   "metadata": {},
   "source": [
    "Please, specify **file name** you want to have (do not worry about extension, MultiQC will handle this for us) inside quotes in the next cell.  \n",
    "<b>DO NOT use spaces or any special characters!</b> "
   ]
  },
  {
   "cell_type": "code",
   "execution_count": 7,
   "metadata": {},
   "outputs": [],
   "source": [
    "inamemyfile=\"3_starAlignments-bam-files\""
   ]
  },
  {
   "cell_type": "markdown",
   "metadata": {},
   "source": [
    "Please, specify a meaningful **title** inside quotes in the next cell, to display at the head of your oncoming report.\n",
    "<b>No more space limit but still avoid any special characters.</b> "
   ]
  },
  {
   "cell_type": "code",
   "execution_count": 8,
   "metadata": {},
   "outputs": [],
   "source": [
    "mytitle=\"Sorted by coordinates bam files quality for 16 paired end sequenced samples\""
   ]
  },
  {
   "cell_type": "markdown",
   "metadata": {},
   "source": [
    "Besides, we can add a comment in header's report. It's a good practise to do so. So we will define it in following cell.\n",
    "\n",
    "> In this cell, we use several lines to keep it readable when displaying notebook. As your text lines are just collapsed together in the html report, be sure to keep last blank space when ending every line)."
   ]
  },
  {
   "cell_type": "code",
   "execution_count": 9,
   "metadata": {},
   "outputs": [],
   "source": [
    "mycomment=$(echo \"Bam files derived from bulk RNA sequencing (human, stranded, rRNA depletion) \" \\\n",
    "\"performed by Lecluze et al. 2020 (PMID: 32412604, GEO: GSE116278, SRA: SR151462). \" \\\n",
    "\"Sample set is limited to fetal ovaries and testes at 6 and 12 PCWeeks (n=4 per condition). \" \\\n",
    "\"SRR7430706-709: female 6 PCW, 709-713: male 6 PCW, 738-741: female 12 PCW, 742-745: male 12 PCW. \" \\\n",
    "\"Mapping to the reference genome (human, Gencode GRCh38, release 37) performed by Star. Additionnal settings: \" \\\n",
    "\"Unmapped or too multimapped (>20) are kept in another file, GeneCounts quantification mode activated.\")"
   ]
  },
  {
   "cell_type": "markdown",
   "metadata": {},
   "source": [
    "... and don't forget output folder (I already did this mistake for you ;-) )!"
   ]
  },
  {
   "cell_type": "code",
   "execution_count": 11,
   "metadata": {},
   "outputs": [],
   "source": [
    "qcsummaries=\"${gohome}Results/multiqc/\""
   ]
  },
  {
   "cell_type": "markdown",
   "metadata": {},
   "source": [
    "### **2- Generate summary report**"
   ]
  },
  {
   "cell_type": "markdown",
   "metadata": {},
   "source": [
    "MultiQC is verbose but, as it will work only on FastQC reports, it is quite short.  *This time, we will have qualimap bamqc, qualimap rnaseq, samtools stats and samtools idxstats*!\n",
    "So, we will let it lines show in notebook while saving them in a file for later use."
   ]
  },
  {
   "cell_type": "code",
   "execution_count": 12,
   "metadata": {},
   "outputs": [
    {
     "name": "stdout",
     "output_type": "stream",
     "text": [
      "Screen output is also saved in /shared/projects/gonseq/Building/Results/logfiles/multiqc-processing_mapped-quality.log\n",
      "[WARNING]         multiqc : MultiQC Version v1.10.1 now available!\n",
      "[INFO   ]         multiqc : This is MultiQC v1.9\n",
      "[INFO   ]         multiqc : Template    : default\n",
      "[INFO   ]         multiqc : Report title: Sorted by coordinates bam files quality for 16 paired end sequenced samples\n",
      "[INFO   ]         multiqc : Searching   : /shared/projects/gonseq/Building/Results/star\n",
      "[INFO   ]         multiqc : Searching   : /shared/projects/gonseq/Building/Results/samtools\n",
      "[INFO   ]         multiqc : Searching   : /shared/projects/gonseq/Building/Results/qualimap\n",
      "[INFO   ]         multiqc : Searching   : /shared/projects/gonseq/Building/Results\n",
      "[INFO   ]         multiqc : Only using modules star, samtools, qualimap\n",
      "[INFO   ]        qualimap : Found 16 BamQC reports\n",
      "/shared/ifbstor1/software/miniconda/envs/multiqc-1.9/lib/python3.6/site-packages/multiqc/plots/bargraph.py:451: UserWarning: FixedFormatter should only be used together with FixedLocator\n",
      "  axes.set_xticklabels(['{:.0f}%'.format(x) for x in vals])\n",
      "[INFO   ]        qualimap : Found 16 RNASeq reports\n",
      "/shared/ifbstor1/software/miniconda/envs/multiqc-1.9/lib/python3.6/site-packages/multiqc/plots/bargraph.py:451: UserWarning: FixedFormatter should only be used together with FixedLocator\n",
      "  axes.set_xticklabels(['{:.0f}%'.format(x) for x in vals])\n",
      "[INFO   ]        samtools : Found 16 stats reports\n",
      "[INFO   ]        samtools : Found 16 flagstat reports\n",
      "[INFO   ]            star : Found 16 reports and 16 gene count files\n",
      "/shared/ifbstor1/software/miniconda/envs/multiqc-1.9/lib/python3.6/site-packages/multiqc/plots/bargraph.py:451: UserWarning: FixedFormatter should only be used together with FixedLocator\n",
      "  axes.set_xticklabels(['{:.0f}%'.format(x) for x in vals])\n",
      "/shared/ifbstor1/software/miniconda/envs/multiqc-1.9/lib/python3.6/site-packages/multiqc/plots/bargraph.py:451: UserWarning: FixedFormatter should only be used together with FixedLocator\n",
      "  axes.set_xticklabels(['{:.0f}%'.format(x) for x in vals])\n",
      "/shared/ifbstor1/software/miniconda/envs/multiqc-1.9/lib/python3.6/site-packages/multiqc/plots/bargraph.py:451: UserWarning: FixedFormatter should only be used together with FixedLocator\n",
      "  axes.set_xticklabels(['{:.0f}%'.format(x) for x in vals])\n",
      "/shared/ifbstor1/software/miniconda/envs/multiqc-1.9/lib/python3.6/site-packages/multiqc/plots/bargraph.py:451: UserWarning: FixedFormatter should only be used together with FixedLocator\n",
      "  axes.set_xticklabels(['{:.0f}%'.format(x) for x in vals])\n",
      "[INFO   ]         multiqc : Compressing plot data\n",
      "[INFO   ]         multiqc : Report      : ../../../../../projects/gonseq/Building/Results/multiqc/3_starAlignments-bam-files.html\n",
      "[INFO   ]         multiqc : Data        : ../../../../../projects/gonseq/Building/Results/multiqc/3_starAlignments-bam-files_data\n",
      "[INFO   ]         multiqc : Plots       : ../../../../../projects/gonseq/Building/Results/multiqc/3_starAlignments-bam-files_plots\n",
      "[INFO   ]         multiqc : MultiQC complete\n",
      "\n",
      "real\t0m40.990s\n",
      "user\t0m35.599s\n",
      "sys\t0m5.853s\n"
     ]
    }
   ],
   "source": [
    "logfile=\"${logfolder}multiqc-processing_mapped-quality.log\"\n",
    "echo \"Screen output is also saved in ${logfile}\"\n",
    "\n",
    "# as time command does not redirect output\n",
    "echo \"operation starting at $(date)\" >> ${logfile}\n",
    "time multiqc --interactive --export \\\n",
    "        --module star ${mappedfolder} \\\n",
    "        --module samtools ${samtoolsfolder} \\\n",
    "        --module qualimap ${qualimapfolder} \\\n",
    "        --outdir \"${qcsummaries}\" \\\n",
    "        --filename \"${inamemyfile}\" \\\n",
    "        --title \"${mytitle}\"  \\\n",
    "        --comment \"${mycomment}\" \\\n",
    "        \"${gohome}Results/\" \\\n",
    "        |& tee -a ${logfile}\n",
    "echo \"operation finished at $(date)\" >> ${logfile}\n",
    "\n",
    "# to see which files we have afterward and follow folder sizes\n",
    "ls -lh \"${qcsummaries}\" >> ${logfile}\n",
    "du -h -d1 \"${gohome}Results/\" >> ${logfile}"
   ]
  },
  {
   "cell_type": "markdown",
   "metadata": {},
   "source": [
    "### **3- Get an eye on used disk space**"
   ]
  },
  {
   "cell_type": "code",
   "execution_count": 14,
   "metadata": {},
   "outputs": [
    {
     "name": "stdout",
     "output_type": "stream",
     "text": [
      "23M\t/shared/projects/gonseq/Building/Results/multiqc\n",
      "8.4M\t/shared/projects/gonseq/Building/Results/fastp\n",
      "3.8M\t/shared/projects/gonseq/Building/Results/samtools\n",
      "488K\t/shared/projects/gonseq/Building/Results/logfiles\n",
      "34M\t/shared/projects/gonseq/Building/Results/fastqc\n",
      "117G\t/shared/projects/gonseq/Building/Results/star\n",
      "4.0K\t/shared/projects/gonseq/Building/Results/.ipynb_checkpoints\n",
      "38M\t/shared/projects/gonseq/Building/Results/qualimap\n",
      "118G\t/shared/projects/gonseq/Building/Results\n",
      "154G\t/shared/projects/gonseq/Building/Data/fastq\n",
      "46G\t/shared/projects/gonseq/Building/Data/sra\n",
      "44K\t/shared/projects/gonseq/Building/Data/info\n",
      "36K\t/shared/projects/gonseq/Building/Data/.ipynb_checkpoints\n",
      "199G\t/shared/projects/gonseq/Building/Data\n",
      "4.0K\t/shared/projects/gonseq/Building/.ipynb_checkpoints\n",
      "220K\t/shared/projects/gonseq/Building/Pipeline/.ipynb_checkpoints\n",
      "440K\t/shared/projects/gonseq/Building/Pipeline\n",
      "1.4G\t/shared/projects/gonseq/Building/Reference/extracted\n",
      "28G\t/shared/projects/gonseq/Building/Reference/indexes_upto49bases\n",
      "8.0K\t/shared/projects/gonseq/Building/Reference/.ipynb_checkpoints\n",
      "30G\t/shared/projects/gonseq/Building/Reference\n",
      "346G\t/shared/projects/gonseq/Building/\n"
     ]
    }
   ],
   "source": [
    "du -h -d2 ${gohome}"
   ]
  },
  {
   "cell_type": "markdown",
   "metadata": {},
   "source": [
    "---\n",
    "___\n",
    "\n",
    "Now we go on to count genes and/or transcripts expression levels.\n",
    "\n",
    "**=> Step 6: Features counting** \n",
    "\n",
    "___"
   ]
  }
 ],
 "metadata": {
  "kernelspec": {
   "display_name": "Bash",
   "language": "bash",
   "name": "bash"
  },
  "language_info": {
   "codemirror_mode": "shell",
   "file_extension": ".sh",
   "mimetype": "text/x-sh",
   "name": "bash"
  }
 },
 "nbformat": 4,
 "nbformat_minor": 4
}
