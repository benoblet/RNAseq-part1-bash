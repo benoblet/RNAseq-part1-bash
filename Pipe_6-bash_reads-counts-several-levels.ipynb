{
 "cells": [
  {
   "cell_type": "markdown",
   "metadata": {},
   "source": [
    "# Read Summarization or Read Counts"
   ]
  },
  {
   "cell_type": "markdown",
   "metadata": {},
   "source": [
    "<big><b>File under construction... </b></big> (05/28/2021) <br>"
   ]
  },
  {
   "cell_type": "markdown",
   "metadata": {},
   "source": [
    "---\n",
    "\n",
    "## <b>Preparing session for IFB core cluster</b>\n",
    "\n",
    "<em>loaded JupyterLab</em> : Version 2.2.9"
   ]
  },
  {
   "cell_type": "code",
   "execution_count": 3,
   "metadata": {},
   "outputs": [
    {
     "name": "stdout",
     "output_type": "stream",
     "text": [
      "=== Cell launched on Mon May 31 14:41:46 CEST 2021 ===\n",
      "=== Current IFB session size: Medium (4CPU, 10GB) or Large (10CPU, 50GB) ===\n",
      "       JobID  AllocCPUS        NodeList \n",
      "------------ ---------- --------------- \n",
      "16989888             10     cpu-node-47 \n",
      "16989888.ba+         10     cpu-node-47 \n",
      "16989888.0           10     cpu-node-47 \n",
      "=== Working's root folder is ===\n",
      "/shared/projects/gonseq/Building/\n",
      "\n",
      "=== current folder tree ===\n",
      "/shared/projects/gonseq/Building/\n",
      "├── Data\n",
      "│   ├── fastq\n",
      "│   ├── info\n",
      "│   └── sra\n",
      "├── Pipeline\n",
      "├── Reference\n",
      "│   ├── extracted\n",
      "│   └── indexes_upto49bases\n",
      "└── Results\n",
      "    ├── fastp\n",
      "    ├── fastqc\n",
      "    ├── featurecounts\n",
      "    ├── logfiles\n",
      "    ├── multiqc\n",
      "    ├── qualimap\n",
      "    ├── samtools\n",
      "    └── star\n",
      "\n",
      "17 directories\n",
      "=== current working directory ===\n",
      "/shared/ifbstor1/projects/gonseq/Testing/Pipeline\n"
     ]
    }
   ],
   "source": [
    "echo \"=== Cell launched on $(date) ===\"\n",
    "\n",
    "echo \"=== Current IFB session size: Medium (4CPU, 10GB) or Large (10CPU, 50GB) ===\"\n",
    "jobid=$(squeue -hu $USER | awk '/jupyter/ {print $1}')\n",
    "sacct --format=JobID,AllocCPUS,NODELIST -j ${jobid}\n",
    "\n",
    "echo \"=== Working's root folder is ===\"\n",
    "gohome=\"/shared/projects/gonseq/Building/\" # to adjust with your project's folder\n",
    "echo \"${gohome}\"\n",
    "echo \"\"\n",
    "\n",
    "echo \"=== current folder tree ===\"\n",
    "tree -d -L 2 \"${gohome}\"\n",
    "echo \"=== current working directory ===\"\n",
    "echo \"${PWD}\""
   ]
  },
  {
   "cell_type": "code",
   "execution_count": 4,
   "metadata": {},
   "outputs": [
    {
     "name": "stdout",
     "output_type": "stream",
     "text": [
      "===== bam sorting by names =====\n",
      "samtools 1.10\n",
      "Using htslib 1.10.2\n",
      "===== gene level quantification =====\n",
      "\n",
      "featureCounts v2.0.1\n",
      "\n",
      "===== transcripts / isoforms level quantification =====\n",
      "2.1.2\n"
     ]
    }
   ],
   "source": [
    "module load samtools subread stringtie\n",
    "\n",
    "echo \"===== bam sorting by names =====\"\n",
    "samtools --version | head -n 2\n",
    "echo \"===== gene level quantification =====\"\n",
    "featureCounts -v\n",
    "echo \"===== transcripts / isoforms level quantification =====\"\n",
    "stringtie --version"
   ]
  },
  {
   "cell_type": "markdown",
   "metadata": {},
   "source": [
    "---\n",
    "## <b>I- Some checks as a precaution</b>"
   ]
  },
  {
   "cell_type": "markdown",
   "metadata": {},
   "source": [
    "As we change session or even day, let's first check all files are there:"
   ]
  },
  {
   "cell_type": "code",
   "execution_count": 5,
   "metadata": {},
   "outputs": [
    {
     "name": "stdout",
     "output_type": "stream",
     "text": [
      "There are 16 bam files:\n",
      "/shared/projects/gonseq/Building/Results/star/SRR7430706_Aligned.sortedByCoord.out.bam\n",
      "/shared/projects/gonseq/Building/Results/star/SRR7430707_Aligned.sortedByCoord.out.bam\n",
      "/shared/projects/gonseq/Building/Results/star/SRR7430708_Aligned.sortedByCoord.out.bam\n",
      "/shared/projects/gonseq/Building/Results/star/SRR7430709_Aligned.sortedByCoord.out.bam\n",
      "/shared/projects/gonseq/Building/Results/star/SRR7430710_Aligned.sortedByCoord.out.bam\n",
      "/shared/projects/gonseq/Building/Results/star/SRR7430711_Aligned.sortedByCoord.out.bam\n",
      "/shared/projects/gonseq/Building/Results/star/SRR7430712_Aligned.sortedByCoord.out.bam\n",
      "/shared/projects/gonseq/Building/Results/star/SRR7430713_Aligned.sortedByCoord.out.bam\n",
      "/shared/projects/gonseq/Building/Results/star/SRR7430738_Aligned.sortedByCoord.out.bam\n",
      "/shared/projects/gonseq/Building/Results/star/SRR7430739_Aligned.sortedByCoord.out.bam\n",
      "/shared/projects/gonseq/Building/Results/star/SRR7430740_Aligned.sortedByCoord.out.bam\n",
      "/shared/projects/gonseq/Building/Results/star/SRR7430741_Aligned.sortedByCoord.out.bam\n",
      "/shared/projects/gonseq/Building/Results/star/SRR7430742_Aligned.sortedByCoord.out.bam\n",
      "/shared/projects/gonseq/Building/Results/star/SRR7430743_Aligned.sortedByCoord.out.bam\n",
      "/shared/projects/gonseq/Building/Results/star/SRR7430744_Aligned.sortedByCoord.out.bam\n",
      "/shared/projects/gonseq/Building/Results/star/SRR7430745_Aligned.sortedByCoord.out.bam\n"
     ]
    }
   ],
   "source": [
    "mappedfolder=\"${gohome}Results/star/\"\n",
    "\n",
    "echo \"There are $(ls \"${mappedfolder}\"*_Aligned.sortedByCoord.out.bam | wc -l) bam files:\"\n",
    "ls \"${mappedfolder}\"*_Aligned.sortedByCoord.out.bam"
   ]
  },
  {
   "cell_type": "markdown",
   "metadata": {},
   "source": [
    "## <b>II- Gene level quantification using `featureCounts`</b>"
   ]
  },
  {
   "cell_type": "markdown",
   "metadata": {},
   "source": [
    "### **1- Tool discovery**"
   ]
  },
  {
   "cell_type": "markdown",
   "metadata": {},
   "source": [
    "`featureCounts` is part of a package called <a href=\"http://subread.sourceforge.net/\">SubRead</a>, to be used with bash, and RSubRead, to be used with R. This tool allows to attribute mapped reads to their matching feature (exon, gene, promoter, ...) on the genome and summarize counts per feature.  \n",
    "  \n",
    "In SubRead user guide, developpers recommend to use <i>specialized transcript-level quantification tools [...] for counting reads to transcripts</i> (see section 6.2.5, page 34 of pdf manual you can download with this <a href=\"http://bioinf.wehi.edu.au/subread-package/SubreadUsersGuide.pdf\">link</a>). So we will only generate gene-level quantification with `featureCounts`."
   ]
  },
  {
   "cell_type": "code",
   "execution_count": null,
   "metadata": {},
   "outputs": [],
   "source": [
    "featureCounts -v"
   ]
  },
  {
   "cell_type": "markdown",
   "metadata": {},
   "source": [
    "A simple usage to count paired-end sequencing data, then counts fragments instead or reads, is:  \n",
    "<code>featureCounts -p -a annotation.gtf \\ \n",
    "                  -o counts.txt \\ \n",
    "                  alignment.bam</code>"
   ]
  },
  {
   "cell_type": "markdown",
   "metadata": {},
   "source": [
    "The <code>feautureCounts</code> options correspond to: <br>\n",
    "<blockquote>\n",
    "    <code>-p</code>, to count fragments instead or reads (paired-end data) <br>\n",
    "    <code>-a TEXT</code>, to locate annotation file, in GTF/GFF format by default (<code>-f</code> to be used to give other file format) that can be a <code>.gzip</code> one. <br>\n",
    "    <code>-o TEXT</code>, to set filename for counts<br>\n",
    "    then alignement files (it may be a list) come. Either in BAM or SAM format, they can be sorted by read names or by chromosomal coordinates.\n",
    "</blockquote>\n",
    "\n",
    "By default, multi-mapped reads (or fragments) are not considered unless we use `-M` option (see others parameters to set in manual, pdf pages 38 to 43).  \n",
    "It will select <code>exon</code> lines in annotation file (<code>-T exon</code> by default) to attribute reads (or fragments). Then, it will count them according to <code>gene_id</code> meta-feature level (<code>-g gene_id</code> by default)."
   ]
  },
  {
   "cell_type": "markdown",
   "metadata": {},
   "source": [
    "We will use some other options:  \n",
    "<blockquote>\n",
    "    <code>-s INTEGER</code>, to specify strandness. Possible values include: 0 (unstranded), 1 (stranded) and 2 (reversely stranded). Default value is 0. <br>\n",
    "    <code>-T INTEGER</code>, to set the number of threads to use (default, 1) <br>\n",
    "    <code>--verbose</code>, to get information for debugging, such as unmatched chromosome/contig names. <br>\n",
    "    As temporary files are saved by default to directory specified in <code>-o</code> option, we won't use <code>--tmpDir STRING</code> option <br>\n",
    "</blockquote>\n",
    "\n",
    "For paired-end data, it is possible to ask for filtering fragments that have both ends aligned (`-B` option), on same chromose and strand (`-C`) and even separated by an insert distance (`-P`, included in `-d` and `-D` values).  \n",
    "\n",
    "Besides, input files will be used as sorted by names. Even if `featureCounts` handles `.bam` files as fast as `samtools` does, we will nonetheless use `samtools` and `--donotsort` option. Indee, some files may be bigger than supported by `featureCounts`."
   ]
  },
  {
   "cell_type": "markdown",
   "metadata": {},
   "source": [
    "### **2- Step preparation**"
   ]
  },
  {
   "cell_type": "markdown",
   "metadata": {},
   "source": [
    "We need to create a destination folder..."
   ]
  },
  {
   "cell_type": "code",
   "execution_count": 6,
   "metadata": {},
   "outputs": [
    {
     "name": "stdout",
     "output_type": "stream",
     "text": [
      "/shared/projects/gonseq/Building/Results/\n",
      "├── fastp\n",
      "├── fastqc\n",
      "├── featurecounts\n",
      "├── logfiles\n",
      "├── multiqc\n",
      "├── qualimap\n",
      "├── samtools\n",
      "└── star\n",
      "\n",
      "8 directories\n"
     ]
    }
   ],
   "source": [
    "featcountfolder=\"${gohome}Results/featurecounts/\"\n",
    "mkdir -p ${featcountfolder}\n",
    "tree -d -L 1 \"${gohome}Results/\""
   ]
  },
  {
   "cell_type": "markdown",
   "metadata": {},
   "source": [
    "... and remember used folder for saved screen output files."
   ]
  },
  {
   "cell_type": "code",
   "execution_count": 7,
   "metadata": {},
   "outputs": [],
   "source": [
    "logfolder=\"${gohome}Results/logfiles/\""
   ]
  },
  {
   "cell_type": "markdown",
   "metadata": {},
   "source": [
    "### **3- Compute reads or fragments counts**"
   ]
  },
  {
   "cell_type": "markdown",
   "metadata": {},
   "source": [
    "<div class=\"alert alert-block alert-danger\">\n",
    "    Following <b>command is prepared for usage on a computational cluster</b> and was developped on the <i>Institut Français de Bioinformatique</i> (IFB)'s core cluster. We use a <i>Large</i> session defined as <b>10 CPU with 50 GB available for RAM</b>. \n",
    "</div>\n",
    "\n",
    "<div class=\"alert alert-block alert-warning\">\n",
    "    <b><code>-T</code> option in featureCounts command line doesn't seem to have impact during counting process</b>. It has been seen active when BAM are sorted (thus not used in current version of below cell).\n",
    "</div>"
   ]
  },
  {
   "cell_type": "code",
   "execution_count": 10,
   "metadata": {},
   "outputs": [
    {
     "name": "stdout",
     "output_type": "stream",
     "text": [
      "Screen output is redirected to /shared/projects/gonseq/Building/Results/logfiles/featureCounts-gene-level-counts.log\n",
      "===== Processing sampleID: SRR7430706...\n",
      "changing tool\n",
      "... done\n",
      "===== Processing sampleID: SRR7430707...\n",
      "changing tool\n",
      "... done\n",
      "===== Processing sampleID: SRR7430708...\n",
      "changing tool\n",
      "... done\n",
      "===== Processing sampleID: SRR7430709...\n",
      "changing tool\n",
      "... done\n",
      "===== Processing sampleID: SRR7430710...\n",
      "changing tool\n",
      "... done\n",
      "===== Processing sampleID: SRR7430711...\n",
      "changing tool\n",
      "... done\n",
      "===== Processing sampleID: SRR7430712...\n",
      "changing tool\n",
      "... done\n",
      "===== Processing sampleID: SRR7430713...\n",
      "changing tool\n",
      "... done\n",
      "===== Processing sampleID: SRR7430738...\n",
      "changing tool\n",
      "... done\n",
      "===== Processing sampleID: SRR7430739...\n",
      "changing tool\n",
      "... done\n",
      "===== Processing sampleID: SRR7430740...\n",
      "changing tool\n",
      "... done\n",
      "===== Processing sampleID: SRR7430741...\n",
      "changing tool\n",
      "... done\n",
      "===== Processing sampleID: SRR7430742...\n",
      "changing tool\n",
      "... done\n",
      "===== Processing sampleID: SRR7430743...\n",
      "changing tool\n",
      "... done\n",
      "===== Processing sampleID: SRR7430744...\n",
      "changing tool\n",
      "... done\n",
      "===== Processing sampleID: SRR7430745...\n",
      "changing tool\n",
      "... done\n",
      "\n",
      "real\t129m41.697s\n",
      "user\t427m13.144s\n",
      "sys\t15m47.885s\n",
      "featureCounts generated 16 count files.\n",
      "featureCounts generated 16 summary files.\n"
     ]
    }
   ],
   "source": [
    "logfile=\"${logfolder}featureCounts-gene-level-counts.log\"\n",
    "echo \"Screen output is redirected to ${logfile}\"\n",
    "\n",
    "# as time command does not redirect output\n",
    "echo \"operation starts at $(date)\" >> ${logfile}\n",
    "\n",
    "time for fn in $(ls \"${mappedfolder}\"*_Aligned.sortedByCoord.out.bam); do  \n",
    "    \n",
    "    mysortedbam=$(basename ${fn})\n",
    "    id=${mysortedbam/_Aligned.sortedByCoord.out.bam/}\n",
    "    echo \"===== Processing sampleID: ${id}...\" | tee -a ${logfile}\n",
    "    \n",
    "    # outputfiles\n",
    "    mytempfile=\"${featcountfolder}${id}_Aligned.sortedByNames.bam\"\n",
    "    myoutfile=\"${featcountfolder}${id}_paired-reverse-stranded\"\n",
    "    \n",
    "    # bam sorting...\n",
    "    echo \"samtools starts at $(date)\" >> ${logfile}\n",
    "    samtools sort -n \\\n",
    "                --threads 8 -m 5G \\\n",
    "                --output-fmt BAM \\\n",
    "                -o ${mytempfile} \\\n",
    "                -T ${featcountfolder} \\\n",
    "                ${fn} \\\n",
    "                &>> ${logfile}\n",
    "    echo \"samtools ends at $(date)\" >> ${logfile}\n",
    "\n",
    "    # some user conversation to help being patient\n",
    "    echo \"changing tool\" | tee -a ${logfile}\n",
    "\n",
    "    # then featureCounts\n",
    "    echo \"featureCounts starts at $(date)\" >> ${logfile}\n",
    "\n",
    "    featureCounts -p -s 2 -T 8 \\\n",
    "                  -a \"${gohome}Reference/extracted/genome_annotation.gtf\" \\\n",
    "                  -o \"${myoutfile}.counts\" \\\n",
    "                  ${mytempfile} \\\n",
    "                  --donotsort \\\n",
    "                  --verbose \\\n",
    "                  &>> ${logfile}\n",
    "    echo \"featureCounts ends at $(date)\" >> ${logfile}\n",
    "    \n",
    "    # removing extra bam file... saving disk space\n",
    "    rm ${mytempfile}\n",
    "    \n",
    "    echo \"... done\" | tee -a ${logfile}\n",
    "    \n",
    "done\n",
    "\n",
    "echo \"operation ends at $(date)\" >> ${logfile}\n",
    "\n",
    "echo \"=== Files created after featureCounts ===\" >> ${logfile}\n",
    "ls -lh \"${featcountfolder}\" >> ${logfile}\n",
    "echo \"featureCounts generated $(ls \"${featcountfolder}\"*.counts | wc -l) count files.\" \\\n",
    "    | tee -a ${logfile}\n",
    "echo \"featureCounts generated $(ls \"${featcountfolder}\"*.counts.summary | wc -l) summary files.\" \\\n",
    "    | tee -a ${logfile}"
   ]
  },
  {
   "cell_type": "markdown",
   "metadata": {},
   "source": [
    "We can see the proportions of alignements that match a single gene (if default `featureCounts` parameters where kept) thanks to logfile and a research for specifiy patterns (`grep -e PATTERN`)."
   ]
  },
  {
   "cell_type": "code",
   "execution_count": 11,
   "metadata": {},
   "outputs": [
    {
     "name": "stdout",
     "output_type": "stream",
     "text": [
      "|| Process BAM file SRR7430706_Aligned.sortedByNames.bam...                   ||\n",
      "||    Successfully assigned alignments : 31270906 (47.2%)                     ||\n",
      "|| Process BAM file SRR7430707_Aligned.sortedByNames.bam...                   ||\n",
      "||    Successfully assigned alignments : 26695027 (47.0%)                     ||\n",
      "|| Process BAM file SRR7430708_Aligned.sortedByNames.bam...                   ||\n",
      "||    Successfully assigned alignments : 25233609 (38.1%)                     ||\n",
      "|| Process BAM file SRR7430709_Aligned.sortedByNames.bam...                   ||\n",
      "||    Successfully assigned alignments : 25735510 (43.6%)                     ||\n",
      "|| Process BAM file SRR7430710_Aligned.sortedByNames.bam...                   ||\n",
      "||    Successfully assigned alignments : 29774681 (41.0%)                     ||\n",
      "|| Process BAM file SRR7430711_Aligned.sortedByNames.bam...                   ||\n",
      "||    Successfully assigned alignments : 29244931 (49.5%)                     ||\n",
      "|| Process BAM file SRR7430712_Aligned.sortedByNames.bam...                   ||\n",
      "||    Successfully assigned alignments : 27688106 (50.6%)                     ||\n",
      "|| Process BAM file SRR7430713_Aligned.sortedByNames.bam...                   ||\n",
      "||    Successfully assigned alignments : 26862091 (41.3%)                     ||\n",
      "|| Process BAM file SRR7430738_Aligned.sortedByNames.bam...                   ||\n",
      "||    Successfully assigned alignments : 25251733 (21.2%)                     ||\n",
      "|| Process BAM file SRR7430739_Aligned.sortedByNames.bam...                   ||\n",
      "||    Successfully assigned alignments : 22994884 (23.0%)                     ||\n",
      "|| Process BAM file SRR7430740_Aligned.sortedByNames.bam...                   ||\n",
      "||    Successfully assigned alignments : 26606973 (28.9%)                     ||\n",
      "|| Process BAM file SRR7430741_Aligned.sortedByNames.bam...                   ||\n",
      "||    Successfully assigned alignments : 19810239 (28.6%)                     ||\n",
      "|| Process BAM file SRR7430742_Aligned.sortedByNames.bam...                   ||\n",
      "||    Successfully assigned alignments : 22643577 (23.4%)                     ||\n",
      "|| Process BAM file SRR7430743_Aligned.sortedByNames.bam...                   ||\n",
      "||    Successfully assigned alignments : 23828813 (29.0%)                     ||\n",
      "|| Process BAM file SRR7430744_Aligned.sortedByNames.bam...                   ||\n",
      "||    Successfully assigned alignments : 21332996 (27.3%)                     ||\n",
      "|| Process BAM file SRR7430745_Aligned.sortedByNames.bam...                   ||\n",
      "||    Successfully assigned alignments : 39137498 (17.9%)                     ||\n"
     ]
    }
   ],
   "source": [
    "cat ${logfile} | grep -e \"Successfully assigned alignments\" -e \"Process BAM\""
   ]
  },
  {
   "cell_type": "code",
   "execution_count": null,
   "metadata": {},
   "outputs": [],
   "source": [
    "# to have explanations\n",
    "echo \"summary file\"\n",
    "cat \"${myoutfile}.counts.summary\""
   ]
  },
  {
   "cell_type": "code",
   "execution_count": null,
   "metadata": {},
   "outputs": [],
   "source": [
    "# to display assignment proportion\n",
    "echo \"screen output extract\"\n",
    "cat ${logfile} | grep \"Successfully assigned alignments\" | tail -n 1"
   ]
  },
  {
   "cell_type": "markdown",
   "metadata": {},
   "source": [
    "## <b>III- Transcript level quantification using `stringtie`</b>"
   ]
  },
  {
   "cell_type": "markdown",
   "metadata": {},
   "source": [
    "<div class=\"alert alert-block alert-warning\">\n",
    "    Part to be treated after M1 report and oral.\n",
    "</div>"
   ]
  }
 ],
 "metadata": {
  "kernelspec": {
   "display_name": "Bash",
   "language": "bash",
   "name": "bash"
  },
  "language_info": {
   "codemirror_mode": "shell",
   "file_extension": ".sh",
   "mimetype": "text/x-sh",
   "name": "bash"
  }
 },
 "nbformat": 4,
 "nbformat_minor": 4
}
